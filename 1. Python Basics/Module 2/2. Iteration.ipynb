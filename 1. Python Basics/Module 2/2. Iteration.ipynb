{
 "cells": [
  {
   "cell_type": "markdown",
   "id": "4051946c-2294-4330-beda-8ec85c90284a",
   "metadata": {},
   "source": [
    "### For Loop Iteration over Strings"
   ]
  },
  {
   "cell_type": "code",
   "execution_count": 1,
   "id": "c4890290-cabd-4204-b8ec-261145c650ff",
   "metadata": {},
   "outputs": [
    {
     "name": "stdout",
     "output_type": "stream",
     "text": [
      "G\n",
      "o\n",
      " \n",
      "N\n",
      "a\n",
      "w\n",
      "a\n",
      "z\n",
      " \n",
      "G\n",
      "o\n"
     ]
    }
   ],
   "source": [
    "# Here each character of string will be printed\n",
    "for achar in \"Go Nawaz Go\":\n",
    "    print(achar)"
   ]
  },
  {
   "cell_type": "code",
   "execution_count": 2,
   "id": "118e280b-289a-4854-8b02-47df84244c51",
   "metadata": {},
   "outputs": [
    {
     "name": "stdout",
     "output_type": "stream",
     "text": [
      "HELLO\n",
      "HELLO\n",
      "HELLO\n",
      "HELLO\n",
      "HELLO\n"
     ]
    }
   ],
   "source": [
    "# We can use slice operator also to define certain range in string or list\n",
    "s = \"python rocks\"\n",
    "for ch in s[3:8]:\n",
    "   print(\"HELLO\")"
   ]
  },
  {
   "cell_type": "markdown",
   "id": "08b15354-f16f-49c2-bd5a-60c7e8e3a02e",
   "metadata": {},
   "source": [
    "### For Loop Iteration over Lists"
   ]
  },
  {
   "cell_type": "code",
   "execution_count": 3,
   "id": "85729126-a974-4ec8-8ff4-f18976af72db",
   "metadata": {},
   "outputs": [
    {
     "name": "stdout",
     "output_type": "stream",
     "text": [
      "apple\n",
      "orange\n",
      "banana\n",
      "cherry\n"
     ]
    }
   ],
   "source": [
    "fruits = [\"apple\", \"orange\", \"banana\", \"cherry\"]\n",
    "\n",
    "for afruit in fruits:     # by item\n",
    "    print(afruit)"
   ]
  },
  {
   "cell_type": "code",
   "execution_count": 4,
   "id": "3e969ec6-e2a7-4e4a-b031-9e4e3156befb",
   "metadata": {},
   "outputs": [
    {
     "name": "stdout",
     "output_type": "stream",
     "text": [
      "Hi Joe Please come to my party on Saturday!\n",
      "Hi Amy Please come to my party on Saturday!\n",
      "Hi Brad Please come to my party on Saturday!\n",
      "Hi Angelina Please come to my party on Saturday!\n",
      "Hi Zuki Please come to my party on Saturday!\n",
      "Hi Thandi Please come to my party on Saturday!\n",
      "Hi Paris Please come to my party on Saturday!\n"
     ]
    }
   ],
   "source": [
    "# In this example in each repitition name starting from left side be printed\n",
    "for name in [\"Joe\", \"Amy\", \"Brad\", \"Angelina\", \"Zuki\", \"Thandi\", \"Paris\"]:\n",
    "    print(\"Hi\", name, \"Please come to my party on Saturday!\")"
   ]
  },
  {
   "cell_type": "markdown",
   "id": "2a0e4612-d7ba-4bd4-a88d-776aae8dae78",
   "metadata": {},
   "source": [
    "### The Accumulator Pattern"
   ]
  },
  {
   "cell_type": "code",
   "execution_count": 5,
   "id": "4093dbf1-7dea-4bb0-8591-dc09bdc0d1f2",
   "metadata": {},
   "outputs": [
    {
     "name": "stdout",
     "output_type": "stream",
     "text": [
      "55\n"
     ]
    }
   ],
   "source": [
    "nums = [1, 2, 3, 4, 5, 6, 7, 8, 9, 10]\n",
    "accum = 0\n",
    "for w in nums:\n",
    "    accum = accum + w      # Here accumulator variable is acting as sum to this whole list\n",
    "print(accum)"
   ]
  },
  {
   "cell_type": "code",
   "execution_count": 6,
   "id": "05a4fc13-3d59-4c33-8c32-5141d24dbbc6",
   "metadata": {},
   "outputs": [
    {
     "name": "stdout",
     "output_type": "stream",
     "text": [
      "1\n",
      "3\n",
      "6\n",
      "10\n",
      "15\n",
      "21\n",
      "28\n",
      "36\n",
      "45\n",
      "55\n"
     ]
    }
   ],
   "source": [
    "# We can also view the value of accum in each iteration\n",
    "nums = [1, 2, 3, 4, 5, 6, 7, 8, 9, 10]\n",
    "accum = 0\n",
    "for w in nums:\n",
    "    accum = accum + w\n",
    "    print(accum)"
   ]
  },
  {
   "cell_type": "code",
   "execution_count": 7,
   "id": "5cd81c50-1c20-4127-a95b-39dbb82359aa",
   "metadata": {},
   "outputs": [
    {
     "name": "stdout",
     "output_type": "stream",
     "text": [
      "[0, 1, 2, 3, 4, 5, 6, 7, 8, 9, 10, 11, 12, 13, 14, 15, 16, 17, 18, 19, 20, 21, 22, 23, 24, 25, 26, 27, 28, 29, 30, 31, 32, 33, 34, 35, 36, 37, 38, 39, 40, 41, 42, 43, 44, 45, 46, 47, 48, 49, 50, 51, 52, 53, 54, 55, 56, 57, 58, 59, 60, 61, 62, 63, 64, 65, 66, 67]\n"
     ]
    }
   ],
   "source": [
    "# Without using loop in one line we can assign the list to another list\n",
    "nums = list(range(68))\n",
    "print(nums)"
   ]
  }
 ],
 "metadata": {
  "kernelspec": {
   "display_name": "AIforge",
   "language": "python",
   "name": "aiforge"
  },
  "language_info": {
   "codemirror_mode": {
    "name": "ipython",
    "version": 3
   },
   "file_extension": ".py",
   "mimetype": "text/x-python",
   "name": "python",
   "nbconvert_exporter": "python",
   "pygments_lexer": "ipython3",
   "version": "3.11.4"
  }
 },
 "nbformat": 4,
 "nbformat_minor": 5
}

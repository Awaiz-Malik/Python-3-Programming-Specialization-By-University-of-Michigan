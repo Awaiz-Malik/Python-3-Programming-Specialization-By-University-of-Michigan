{
 "cells": [
  {
   "cell_type": "markdown",
   "id": "b0541f31-a439-484f-b3f9-e0fc98ed98b6",
   "metadata": {},
   "source": [
    "### Strings in Python "
   ]
  },
  {
   "cell_type": "code",
   "execution_count": 1,
   "id": "ba2c61e6-4806-4d86-937d-501d0159513d",
   "metadata": {},
   "outputs": [
    {
     "name": "stdout",
     "output_type": "stream",
     "text": [
      "Muhammad Awaiz\n"
     ]
    }
   ],
   "source": [
    "name = \"Muhammad Awaiz\"\n",
    "print(name)"
   ]
  },
  {
   "cell_type": "markdown",
   "id": "b6619b27-08c6-4127-8871-da4f472f5fa9",
   "metadata": {},
   "source": [
    "### Lists in Python"
   ]
  },
  {
   "cell_type": "code",
   "execution_count": 2,
   "id": "501eb25b-913b-48e4-acd1-e288aee418ce",
   "metadata": {},
   "outputs": [
    {
     "name": "stdout",
     "output_type": "stream",
     "text": [
      "['John', 23, 23.4, 'A']\n",
      "John\n",
      "<class 'list'>\n"
     ]
    }
   ],
   "source": [
    "# For list we use Square Brackets []\n",
    "list = [\"John\", 23, 23.4, 'A']\n",
    "print(list)\n",
    "print(list[0])\n",
    "print(type(list))"
   ]
  },
  {
   "cell_type": "markdown",
   "id": "7f342124-a4d5-40bd-bfc0-d1ad0d1a8fc7",
   "metadata": {},
   "source": [
    "### Tuples in Python"
   ]
  },
  {
   "cell_type": "code",
   "execution_count": 3,
   "id": "cfcab12d-33a7-4a69-a2cb-9fbc9d4ce802",
   "metadata": {},
   "outputs": [
    {
     "name": "stdout",
     "output_type": "stream",
     "text": [
      "('John', 23, 23.4, 'A')\n",
      "A\n",
      "<class 'tuple'>\n"
     ]
    }
   ],
   "source": [
    "# Tuples are exact same as lists but Only difference in that Tuples are immutables.\n",
    "# As per syntax we will use Parentheses instead of Square Brackets\n",
    "tuple = (\"John\", 23, 23.4, 'A')\n",
    "print(tuple)\n",
    "print(tuple[3])\n",
    "print(type(tuple))"
   ]
  },
  {
   "cell_type": "code",
   "execution_count": 4,
   "id": "6658f10e-cda1-4a2f-ba47-ce84b47cf660",
   "metadata": {},
   "outputs": [
    {
     "name": "stdout",
     "output_type": "stream",
     "text": [
      "<class 'int'>\n",
      "<class 'tuple'>\n"
     ]
    }
   ],
   "source": [
    "# If we have single integer, we will add a comma after it\n",
    "Mytuple_1 = (100)\n",
    "Mytuple_2 = (100,)\n",
    "print(type(Mytuple_1))\n",
    "print(type(Mytuple_2))"
   ]
  },
  {
   "cell_type": "markdown",
   "id": "9d5c5af4-5a20-410d-8276-9eaa98c4b1df",
   "metadata": {},
   "source": [
    "### The Slice Operator in Python `:`"
   ]
  },
  {
   "cell_type": "code",
   "execution_count": 5,
   "id": "2230295d-3a6e-4e99-a69b-826c703a0fed",
   "metadata": {},
   "outputs": [
    {
     "name": "stdout",
     "output_type": "stream",
     "text": [
      "['cherry', 23, 'A', 43.6]\n",
      "['apple', 'banana', 'cherry']\n",
      "[23, 'A', 43.6, 'Hello Pakistan']\n",
      "['apple', 'banana', 'cherry', 23, 'A', 43.6, 'Hello Pakistan']\n"
     ]
    }
   ],
   "source": [
    "my_list = [\"apple\", \"banana\", \"cherry\", 23, 'A', 43.6, \"Hello Pakistan\"] \n",
    "print(my_list[2:6])    # python is a zero-index based language and slices are inclusive of the first index and exclusive of the second.\n",
    "print(my_list[:3])\n",
    "print(my_list[3:])\n",
    "print(my_list[:])"
   ]
  },
  {
   "cell_type": "code",
   "execution_count": 6,
   "id": "b03970ba-94e7-4234-a91a-3323e487f297",
   "metadata": {},
   "outputs": [
    {
     "name": "stdout",
     "output_type": "stream",
     "text": [
      "['curling', 'ping pong', 'hockey']\n"
     ]
    }
   ],
   "source": [
    "# Now lets figure the objects from last without hard coding\n",
    "sports = ['cricket', 'football', 'volleyball', 'baseball', 'softball', 'track and field', 'curling', 'ping pong', 'hockey']\n",
    "last = sports[-3:]\n",
    "print(last)"
   ]
  },
  {
   "cell_type": "code",
   "execution_count": 7,
   "id": "da33c68d-2d0a-4a7d-a8a2-054cd103b61f",
   "metadata": {},
   "outputs": [
    {
     "name": "stdout",
     "output_type": "stream",
     "text": [
      "['apple', 'banana', 'cherry', 'I was added Between', 45, 23, 'A', 43.6, 'Hello Pakistan']\n",
      "['apple', 'banana', 'cherry', 23, 'A', 43.6, 'Hello Pakistan', 1, 2, 3, 4]\n",
      "['apple', 'banana', 'cherry', 23, 'A', 43.6, 'Hello Pakistan', 'apple', 'banana', 'cherry', 23, 'A', 43.6, 'Hello Pakistan']\n"
     ]
    }
   ],
   "source": [
    "# Lets perform some concatenation\n",
    "print(my_list[:3] + [\"I was added Between\",45] + my_list[3:])\n",
    "print(my_list + [1,2,3,4])\n",
    "\n",
    "# Lets perform repetition in list \n",
    "print(my_list * 2)"
   ]
  },
  {
   "cell_type": "markdown",
   "id": "c318c7e9-21e9-4f05-b101-fecbe72a74f9",
   "metadata": {},
   "source": [
    "### Count and Index Functions"
   ]
  },
  {
   "cell_type": "code",
   "execution_count": 8,
   "id": "d3eb4048-1619-41c5-a0d3-77630c340433",
   "metadata": {},
   "outputs": [
    {
     "name": "stdout",
     "output_type": "stream",
     "text": [
      "1\n",
      "0\n"
     ]
    }
   ],
   "source": [
    "print(my_list.count('cherry'))\n",
    "print(tuple.index('John')) \n",
    "\n",
    "# These count and index functions can be used on strings, list and tuple"
   ]
  },
  {
   "cell_type": "code",
   "execution_count": 9,
   "id": "9edb92f6-223d-4d7f-8971-268cb4fb0302",
   "metadata": {},
   "outputs": [
    {
     "name": "stdout",
     "output_type": "stream",
     "text": [
      "0\n"
     ]
    }
   ],
   "source": [
    "# Lets see a scenerio when list has 2 same objects\n",
    "a = [2, 3, 4, 2]\n",
    "print(a.index(2)) # The answer will be 0 index because its reading precedence is from left to right"
   ]
  },
  {
   "cell_type": "markdown",
   "id": "583b17a0-2ecf-4c8f-a1d7-ac71eb6c8563",
   "metadata": {},
   "source": [
    "### Split and Join Functions"
   ]
  },
  {
   "cell_type": "code",
   "execution_count": 10,
   "id": "2bf6dccc-d479-42b9-8e65-626b22fcd9df",
   "metadata": {},
   "outputs": [
    {
     "name": "stdout",
     "output_type": "stream",
     "text": [
      "['Muhammad', 'Awaiz', 'Qayyum', 'Malik']\n",
      "['Muhammad Awa', 'z Qayyum Mal', 'k']\n"
     ]
    }
   ],
   "source": [
    "naam = \"Muhammad Awaiz Qayyum Malik\"\n",
    "\n",
    "# The argument we pass to split() allows the interpreter to know from where we want to split\n",
    "print(naam.split())    # By default split looks for blank spaces\n",
    "print(naam.split('i'))"
   ]
  },
  {
   "cell_type": "code",
   "execution_count": 11,
   "id": "dfaf96d0-c4a8-4234-934c-96e8f9403784",
   "metadata": {},
   "outputs": [
    {
     "name": "stdout",
     "output_type": "stream",
     "text": [
      "M/u/h/a/m/m/a/d/ /A/w/a/i/z/ /Q/a/y/y/u/m/ /M/a/l/i/k\n",
      "Muhammad@Awaiz@Qayyum@Malik\n"
     ]
    }
   ],
   "source": [
    "# Now for joining the string with any charater or space we want\n",
    "print('/'.join(naam))\n",
    "print(\"@\".join(['Muhammad', 'Awaiz', 'Qayyum', 'Malik']))"
   ]
  }
 ],
 "metadata": {
  "kernelspec": {
   "display_name": "AIforge",
   "language": "python",
   "name": "aiforge"
  },
  "language_info": {
   "codemirror_mode": {
    "name": "ipython",
    "version": 3
   },
   "file_extension": ".py",
   "mimetype": "text/x-python",
   "name": "python",
   "nbconvert_exporter": "python",
   "pygments_lexer": "ipython3",
   "version": "3.11.4"
  }
 },
 "nbformat": 4,
 "nbformat_minor": 5
}

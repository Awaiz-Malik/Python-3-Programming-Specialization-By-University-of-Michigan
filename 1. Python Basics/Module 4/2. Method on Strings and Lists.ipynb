{
 "cells": [
  {
   "cell_type": "code",
   "execution_count": 1,
   "id": "c11fd10e-4548-40d4-905f-1556d7a4edd4",
   "metadata": {},
   "outputs": [
    {
     "name": "stdout",
     "output_type": "stream",
     "text": [
      "[5, 27, 3, 12]\n"
     ]
    }
   ],
   "source": [
    "mylist = []\n",
    "mylist.append(5)\n",
    "mylist.append(27)\n",
    "mylist.append(3)\n",
    "mylist.append(12)\n",
    "print(mylist)"
   ]
  },
  {
   "cell_type": "code",
   "execution_count": 2,
   "id": "d6372c73-3748-42b3-9e9b-148d2905f140",
   "metadata": {},
   "outputs": [
    {
     "name": "stdout",
     "output_type": "stream",
     "text": [
      "[5, 12, 27, 3, 12]\n",
      "2\n",
      "3\n"
     ]
    }
   ],
   "source": [
    "mylist.insert(1, 12)    # This doesm't work as assignment but insert and moves the other terms one address forward\n",
    "print(mylist)\n",
    "print(mylist.count(12)) # This counts how many 12 are present in the lisy\n",
    "print(mylist.index(3))  # This tells the index numb of the object in the list"
   ]
  },
  {
   "cell_type": "code",
   "execution_count": 3,
   "id": "e105c716-54f6-4250-bd77-397350aab287",
   "metadata": {},
   "outputs": [
    {
     "name": "stdout",
     "output_type": "stream",
     "text": [
      "[12, 3, 27, 12, 5]\n"
     ]
    }
   ],
   "source": [
    "mylist.reverse()\n",
    "print(mylist)"
   ]
  },
  {
   "cell_type": "code",
   "execution_count": 4,
   "id": "b0562a46-b2b6-4e6f-97ec-7536703822c8",
   "metadata": {},
   "outputs": [
    {
     "name": "stdout",
     "output_type": "stream",
     "text": [
      "[3, 5, 12, 12, 27]\n"
     ]
    }
   ],
   "source": [
    "mylist.sort()\n",
    "print(mylist)"
   ]
  },
  {
   "cell_type": "code",
   "execution_count": 5,
   "id": "87c86ed6-b5ca-4378-9ccd-f6e87820422f",
   "metadata": {},
   "outputs": [
    {
     "name": "stdout",
     "output_type": "stream",
     "text": [
      "[3, 12, 12, 27]\n"
     ]
    }
   ],
   "source": [
    "mylist.remove(5)\n",
    "print(mylist)"
   ]
  },
  {
   "cell_type": "code",
   "execution_count": 6,
   "id": "2be4cdbe-b984-4585-9d1e-8dd4a0da76bb",
   "metadata": {},
   "outputs": [
    {
     "name": "stdout",
     "output_type": "stream",
     "text": [
      "27\n",
      "[3, 12, 12]\n"
     ]
    }
   ],
   "source": [
    "lastitem = mylist.pop()  # Here pop will remove the last value and return it as well\n",
    "print(lastitem)\n",
    "print(mylist)"
   ]
  },
  {
   "cell_type": "code",
   "execution_count": 7,
   "id": "24b3a4c2-fad5-4edc-a0ba-71e468a98f94",
   "metadata": {},
   "outputs": [
    {
     "name": "stdout",
     "output_type": "stream",
     "text": [
      "origlist: [45, 32, 88]\n",
      "the identifier: 2716827637504\n",
      "newlist: [45, 32, 88, 'cat']\n",
      "the identifier: 2716827378624\n",
      "origlist: [45, 32, 88, 'cat']\n",
      "the identifier: 2716827637504\n"
     ]
    }
   ],
   "source": [
    "origlist = [45,32,88]\n",
    "print(\"origlist:\", origlist)\n",
    "print(\"the identifier:\", id(origlist))             #id of the list before changes\n",
    "newlist = origlist + ['cat']\n",
    "print(\"newlist:\", newlist)\n",
    "print(\"the identifier:\", id(newlist))              #id of the list after concatentation\n",
    "origlist.append('cat')\n",
    "print(\"origlist:\", origlist)\n",
    "print(\"the identifier:\", id(origlist))             #id of the list after append is used"
   ]
  },
  {
   "cell_type": "code",
   "execution_count": 8,
   "id": "c8f96648-1c25-42f8-a79e-a4e3be20e3bd",
   "metadata": {},
   "outputs": [
    {
     "name": "stdout",
     "output_type": "stream",
     "text": [
      "Hello, World\n"
     ]
    }
   ],
   "source": [
    "ss = \"    Hello, World    \"\n",
    "print(ss.strip()) # strip function removes the spaces fro left and right only, the middles ones are okay"
   ]
  }
 ],
 "metadata": {
  "kernelspec": {
   "display_name": "AIforge",
   "language": "python",
   "name": "aiforge"
  },
  "language_info": {
   "codemirror_mode": {
    "name": "ipython",
    "version": 3
   },
   "file_extension": ".py",
   "mimetype": "text/x-python",
   "name": "python",
   "nbconvert_exporter": "python",
   "pygments_lexer": "ipython3",
   "version": "3.11.4"
  }
 },
 "nbformat": 4,
 "nbformat_minor": 5
}

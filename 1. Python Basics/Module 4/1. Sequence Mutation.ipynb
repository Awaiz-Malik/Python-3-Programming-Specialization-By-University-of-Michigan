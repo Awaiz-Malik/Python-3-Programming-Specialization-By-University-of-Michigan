{
 "cells": [
  {
   "cell_type": "markdown",
   "id": "56c9fa49-405f-401e-9ebc-2daddef9b97e",
   "metadata": {},
   "source": [
    "### Mutatability in Lists"
   ]
  },
  {
   "cell_type": "code",
   "execution_count": 1,
   "id": "c862d923-48d0-46e1-9547-548a9a37c91c",
   "metadata": {},
   "outputs": [
    {
     "name": "stdout",
     "output_type": "stream",
     "text": [
      "['a', 'x', 'y', 'd', 'e', 'f']\n"
     ]
    }
   ],
   "source": [
    "alist = ['a', 'b', 'c', 'd', 'e', 'f']\n",
    "alist[1:3] = ['x', 'y']\n",
    "print(alist)"
   ]
  },
  {
   "cell_type": "markdown",
   "id": "0266fa69-499d-43c4-9bfe-42fcb9ab0822",
   "metadata": {},
   "source": [
    "### Strings are Immutable"
   ]
  },
  {
   "cell_type": "code",
   "execution_count": 2,
   "id": "fe2059c2-25b5-40d7-9d68-8e176e99a2f1",
   "metadata": {},
   "outputs": [
    {
     "ename": "TypeError",
     "evalue": "'str' object does not support item assignment",
     "output_type": "error",
     "traceback": [
      "\u001b[1;31m---------------------------------------------------------------------------\u001b[0m",
      "\u001b[1;31mTypeError\u001b[0m                                 Traceback (most recent call last)",
      "Cell \u001b[1;32mIn[2], line 2\u001b[0m\n\u001b[0;32m      1\u001b[0m greeting \u001b[38;5;241m=\u001b[39m \u001b[38;5;124m\"\u001b[39m\u001b[38;5;124mHello, world!\u001b[39m\u001b[38;5;124m\"\u001b[39m\n\u001b[1;32m----> 2\u001b[0m \u001b[43mgreeting\u001b[49m\u001b[43m[\u001b[49m\u001b[38;5;241;43m0\u001b[39;49m\u001b[43m]\u001b[49m \u001b[38;5;241m=\u001b[39m \u001b[38;5;124m'\u001b[39m\u001b[38;5;124mJ\u001b[39m\u001b[38;5;124m'\u001b[39m            \u001b[38;5;66;03m# ERROR!\u001b[39;00m\n\u001b[0;32m      3\u001b[0m \u001b[38;5;28mprint\u001b[39m(greeting)\n",
      "\u001b[1;31mTypeError\u001b[0m: 'str' object does not support item assignment"
     ]
    }
   ],
   "source": [
    "greeting = \"Hello, world!\"\n",
    "greeting[0] = 'J'            # ERROR!\n",
    "print(greeting)"
   ]
  },
  {
   "cell_type": "code",
   "execution_count": 3,
   "id": "99da0c57-12cc-4b2e-9daa-d82af9cc5436",
   "metadata": {},
   "outputs": [
    {
     "name": "stdout",
     "output_type": "stream",
     "text": [
      "Jello, world!\n",
      "Hello, world!\n"
     ]
    }
   ],
   "source": [
    "# If we can't directly assign the value we will use indirect method\n",
    "greeting = \"Hello, world!\"\n",
    "newGreeting = 'J' + greeting[1:]  # Here 'J' will be concatenated with 'ello world' and save it in new variable\n",
    "print(newGreeting)\n",
    "print(greeting)"
   ]
  },
  {
   "cell_type": "markdown",
   "id": "6449de68-a93a-4f20-8589-2fcc97f19716",
   "metadata": {},
   "source": [
    "### List Element Deletion"
   ]
  },
  {
   "cell_type": "code",
   "execution_count": 4,
   "id": "c7de6ee8-7adf-4fe3-9b78-37a354ac381c",
   "metadata": {},
   "outputs": [
    {
     "name": "stdout",
     "output_type": "stream",
     "text": [
      "['one', 'three']\n",
      "['a', 'f']\n"
     ]
    }
   ],
   "source": [
    "a = ['one', 'two', 'three']\n",
    "del a[1]\n",
    "print(a)\n",
    "\n",
    "alist = ['a', 'b', 'c', 'd', 'e', 'f']\n",
    "del alist[1:5]\n",
    "print(alist)\n"
   ]
  },
  {
   "cell_type": "markdown",
   "id": "56c43e32-3f3b-4a32-84d2-29995e76710b",
   "metadata": {},
   "source": [
    "## Objects and References"
   ]
  },
  {
   "cell_type": "code",
   "execution_count": 7,
   "id": "22904080-b6b6-43a8-88c5-96c6c1d0e97e",
   "metadata": {},
   "outputs": [
    {
     "name": "stdout",
     "output_type": "stream",
     "text": [
      "True\n",
      "True\n"
     ]
    }
   ],
   "source": [
    "a = \"banana\"\n",
    "b = \"banana\"\n",
    "\n",
    "print(a is b) # Check for Alias\n",
    "print(a == b)"
   ]
  },
  {
   "cell_type": "code",
   "execution_count": 6,
   "id": "1728b22b-a327-4461-8fe0-a6d6583ecb43",
   "metadata": {},
   "outputs": [
    {
     "name": "stdout",
     "output_type": "stream",
     "text": [
      "2087656156144\n",
      "2087656156144\n"
     ]
    }
   ],
   "source": [
    "# Since strings are immutable, the Python interpreter often optimizes resources \n",
    "# by making two names that refer to the same string value refer to the same object\n",
    "print(id(a))\n",
    "print(id(b))"
   ]
  },
  {
   "cell_type": "code",
   "execution_count": 8,
   "id": "331647e1-40a5-40c7-b85a-c85bd5b2a8d8",
   "metadata": {},
   "outputs": [
    {
     "name": "stdout",
     "output_type": "stream",
     "text": [
      "False\n",
      "True\n",
      "2087656370496\n",
      "2087656473536\n"
     ]
    }
   ],
   "source": [
    "# But in the case of list even though the list are equilent but still they are not Alias\n",
    "a = [81,82,83]\n",
    "b = [81,82,83]\n",
    "\n",
    "print(a is b)\n",
    "\n",
    "print(a == b)\n",
    "\n",
    "print(id(a))\n",
    "print(id(b))"
   ]
  },
  {
   "cell_type": "markdown",
   "id": "9ce58dde-9e1a-4592-9472-11ed62700d2e",
   "metadata": {},
   "source": [
    "### Aliasing"
   ]
  },
  {
   "cell_type": "code",
   "execution_count": 9,
   "id": "6d5e3aac-e500-46d2-a596-530038e7d43c",
   "metadata": {},
   "outputs": [
    {
     "name": "stdout",
     "output_type": "stream",
     "text": [
      "False\n",
      "True\n",
      "True\n",
      "[5, 82, 83]\n"
     ]
    }
   ],
   "source": [
    "# If a and b are alias to eachother this means if we change one the interpreter other changes automatically\n",
    "a = [81,82,83]\n",
    "b = [81,82,83]\n",
    "print(a is b)\n",
    "\n",
    "b = a\n",
    "print(a == b)\n",
    "print(a is b)\n",
    "\n",
    "b[0] = 5    # We can chaning in b\n",
    "print(a)    # But we will see a will change as well"
   ]
  },
  {
   "cell_type": "markdown",
   "id": "027bd489-0201-4aec-8d54-13c9a3f6e4c4",
   "metadata": {},
   "source": [
    "### Cloning Lists"
   ]
  },
  {
   "cell_type": "code",
   "execution_count": 10,
   "id": "dc681391-dab5-4e9b-9d15-0ced52d1fe49",
   "metadata": {},
   "outputs": [
    {
     "name": "stdout",
     "output_type": "stream",
     "text": [
      "True\n",
      "False\n",
      "[81, 82, 83]\n",
      "[5, 82, 83]\n"
     ]
    }
   ],
   "source": [
    "# This way we will have complete different list but same values\n",
    "a = [81,82,83]\n",
    "\n",
    "b = a[:]       # make a clone using slice\n",
    "print(a == b)\n",
    "print(a is b)\n",
    "\n",
    "b[0] = 5\n",
    "\n",
    "print(a)\n",
    "print(b)\n"
   ]
  },
  {
   "cell_type": "code",
   "execution_count": null,
   "id": "dd3bf13a-3a91-4383-a11b-2af0880f93cf",
   "metadata": {},
   "outputs": [],
   "source": []
  }
 ],
 "metadata": {
  "kernelspec": {
   "display_name": "AIforge",
   "language": "python",
   "name": "aiforge"
  },
  "language_info": {
   "codemirror_mode": {
    "name": "ipython",
    "version": 3
   },
   "file_extension": ".py",
   "mimetype": "text/x-python",
   "name": "python",
   "nbconvert_exporter": "python",
   "pygments_lexer": "ipython3",
   "version": "3.11.4"
  }
 },
 "nbformat": 4,
 "nbformat_minor": 5
}

{
 "cells": [
  {
   "cell_type": "code",
   "execution_count": 1,
   "id": "87f8db9f-9004-4cbb-aaf7-8aeef8f247fc",
   "metadata": {},
   "outputs": [
    {
     "name": "stdout",
     "output_type": "stream",
     "text": [
      "Hello World!\n"
     ]
    }
   ],
   "source": [
    "print(\"Hello World!\")"
   ]
  },
  {
   "cell_type": "code",
   "execution_count": 2,
   "id": "932566fa-8df2-459f-9737-d0acb76f9a2d",
   "metadata": {},
   "outputs": [
    {
     "name": "stdout",
     "output_type": "stream",
     "text": [
      "4.5\n"
     ]
    }
   ],
   "source": [
    "# Normal Division\n",
    "print(18/4)"
   ]
  },
  {
   "cell_type": "code",
   "execution_count": 3,
   "id": "1d166243-571e-4093-9584-a7b38532ca52",
   "metadata": {},
   "outputs": [
    {
     "name": "stdout",
     "output_type": "stream",
     "text": [
      "7\n"
     ]
    }
   ],
   "source": [
    "# Integer Division \n",
    "print(30//4)"
   ]
  },
  {
   "cell_type": "code",
   "execution_count": 4,
   "id": "08b3650f-324d-4a8b-b7ae-e5e3409a1a54",
   "metadata": {},
   "outputs": [
    {
     "name": "stdout",
     "output_type": "stream",
     "text": [
      "4\n"
     ]
    }
   ],
   "source": [
    "# For Exponential Square power\n",
    "print(2 ** 2)"
   ]
  },
  {
   "cell_type": "code",
   "execution_count": 5,
   "id": "1f533fd2-8fc3-4491-a92a-761b528ee50d",
   "metadata": {},
   "outputs": [
    {
     "name": "stdout",
     "output_type": "stream",
     "text": [
      "<class 'str'>\n"
     ]
    }
   ],
   "source": [
    "# Type Function determines the data type of the argument\n",
    "print(type(\"Who am I?\"))"
   ]
  },
  {
   "cell_type": "code",
   "execution_count": 6,
   "id": "2e0e3b49-9b38-4087-b181-8842fa4d1509",
   "metadata": {},
   "outputs": [
    {
     "name": "stdout",
     "output_type": "stream",
     "text": [
      "In this triple Quotation \n",
      "        we can use \"Double\" as well as 'Single' Quotation\n"
     ]
    }
   ],
   "source": [
    "# Introduction to triple Qoutation mark or Multi Line String\n",
    "print('''In this triple Quotation \n",
    "        we can use \"Double\" as well as 'Single' Quotation''') # Instread of ''' we can use \"\"\""
   ]
  },
  {
   "cell_type": "code",
   "execution_count": 7,
   "id": "ca1d6019-6992-4ec8-8542-13fcd5e87b48",
   "metadata": {},
   "outputs": [
    {
     "name": "stdout",
     "output_type": "stream",
     "text": [
      "3.14 hello 32\n"
     ]
    }
   ],
   "source": [
    "# Python Allows Multiple Datatypes in Single print()\n",
    "print(3.14, \"hello\", 32)"
   ]
  },
  {
   "cell_type": "code",
   "execution_count": 8,
   "id": "d56152d5-5e18-4327-9929-6cdc3d5420fd",
   "metadata": {},
   "outputs": [
    {
     "name": "stdout",
     "output_type": "stream",
     "text": [
      "23.0\n",
      "34\n",
      "34566\n"
     ]
    }
   ],
   "source": [
    "# Python provides with 3 Type Conversion Functions\n",
    "print(float(23))\n",
    "print(int(34.432))\n",
    "print(str(34566))"
   ]
  },
  {
   "cell_type": "code",
   "execution_count": 9,
   "id": "a282a93d-d7bf-4c7f-9def-42bbdd2c807e",
   "metadata": {},
   "outputs": [
    {
     "name": "stdout",
     "output_type": "stream",
     "text": [
      "Muhammad Awaiz Qayyum Malik\n"
     ]
    }
   ],
   "source": [
    "# String Concatenation in Python \n",
    "print(\"Muhammad \" + \"Awaiz \" + \"Qayyum \" + \"Malik\")"
   ]
  },
  {
   "cell_type": "code",
   "execution_count": 10,
   "id": "1f7e1a1b-c394-424e-8f4c-dd6f778dbfd4",
   "metadata": {},
   "outputs": [
    {
     "name": "stdout",
     "output_type": "stream",
     "text": [
      "Enter the Input:  23\n"
     ]
    },
    {
     "name": "stdout",
     "output_type": "stream",
     "text": [
      "The value user entered is :  23\n"
     ]
    }
   ],
   "source": [
    "# Taking Input in Python \n",
    "variable_name = input(\"Enter the Input: \")\n",
    "print(\"The value user entered is : \", variable_name)"
   ]
  },
  {
   "cell_type": "code",
   "execution_count": 11,
   "id": "0772d1c5-b812-4544-8743-2b55a23c1245",
   "metadata": {},
   "outputs": [
    {
     "name": "stdout",
     "output_type": "stream",
     "text": [
      "This statement will be executed 3 times\n",
      "This statement will be executed 3 times\n",
      "This statement will be executed 3 times\n"
     ]
    }
   ],
   "source": [
    "# For Loop in Python\n",
    "for _ in range(3):\n",
    "    print('This statement will be executed 3 times')\n",
    "\n",
    "# More variants of For loop will be discussed later in the course."
   ]
  },
  {
   "cell_type": "code",
   "execution_count": 12,
   "id": "8609b8ed-37be-4d01-a7f3-9b704e4ab61f",
   "metadata": {},
   "outputs": [
    {
     "name": "stdout",
     "output_type": "stream",
     "text": [
      "0.34396533047434963\n",
      "2\n"
     ]
    }
   ],
   "source": [
    "# Now lets see how module import work\n",
    "import random\n",
    "prob = random.random()\n",
    "print(prob)\n",
    "diceThrow = random.randrange(1,7)\n",
    "print(diceThrow)"
   ]
  },
  {
   "cell_type": "code",
   "execution_count": 13,
   "id": "d7d44da3-1f5a-4453-814f-38593b716d90",
   "metadata": {},
   "outputs": [
    {
     "name": "stdout",
     "output_type": "stream",
     "text": [
      "0.07051307922487449\n",
      "2\n"
     ]
    }
   ],
   "source": [
    "# Now instead of the above importing random library we can try a new and easy approach\n",
    "from random import random, randrange            # Now we are importing the functions directly random library\n",
    "NewProb = random()\n",
    "print(NewProb)\n",
    "NewDiceThrow = randrange(1,7)\n",
    "print(NewDiceThrow)"
   ]
  }
 ],
 "metadata": {
  "kernelspec": {
   "display_name": "AIforge",
   "language": "python",
   "name": "aiforge"
  },
  "language_info": {
   "codemirror_mode": {
    "name": "ipython",
    "version": 3
   },
   "file_extension": ".py",
   "mimetype": "text/x-python",
   "name": "python",
   "nbconvert_exporter": "python",
   "pygments_lexer": "ipython3",
   "version": "3.11.4"
  }
 },
 "nbformat": 4,
 "nbformat_minor": 5
}

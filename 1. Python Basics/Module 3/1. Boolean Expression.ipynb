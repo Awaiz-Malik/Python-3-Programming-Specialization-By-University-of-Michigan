{
 "cells": [
  {
   "cell_type": "markdown",
   "id": "b88ddbc1-2d33-4b9c-8f67-1bf4eb3aefb1",
   "metadata": {},
   "source": [
    "### Comparison Operator"
   ]
  },
  {
   "cell_type": "code",
   "execution_count": 1,
   "id": "2ae46bbd-2db1-475b-b48b-94d3de5a4450",
   "metadata": {},
   "outputs": [
    {
     "name": "stdout",
     "output_type": "stream",
     "text": [
      "False\n",
      "True\n",
      "False\n",
      "True\n",
      "False\n",
      "True\n"
     ]
    }
   ],
   "source": [
    "# Lets see all the comparison operators we can mostly use in Python\n",
    "print(5 == 6)\n",
    "print(5 != 6)\n",
    "print(5 >= 8)\n",
    "print(5 <= 8)\n",
    "print(5 > 8)\n",
    "print(5 < 8)"
   ]
  },
  {
   "cell_type": "markdown",
   "id": "53617862-b987-4d78-8d69-293aeafc81fa",
   "metadata": {},
   "source": [
    "### Logical Operator"
   ]
  },
  {
   "cell_type": "code",
   "execution_count": 2,
   "id": "e46b4459-9425-42a8-afdd-05137f612e68",
   "metadata": {},
   "outputs": [
    {
     "name": "stdout",
     "output_type": "stream",
     "text": [
      "True\n",
      "False\n",
      "False\n"
     ]
    }
   ],
   "source": [
    "# Now lets see how Logical Operator Work with comaparsion operator\n",
    "x = True\n",
    "y = False\n",
    "print(x or y)\n",
    "print(x and y)\n",
    "print(not x)"
   ]
  },
  {
   "cell_type": "markdown",
   "id": "fa63fa58-6249-4916-93f0-671c74042723",
   "metadata": {},
   "source": [
    "### The `in` and `not in` Operator"
   ]
  },
  {
   "cell_type": "code",
   "execution_count": 3,
   "id": "13b3b9a7-592f-45a7-935c-97ec34b15fc8",
   "metadata": {},
   "outputs": [
    {
     "name": "stdout",
     "output_type": "stream",
     "text": [
      "True\n",
      "False\n",
      "True\n"
     ]
    }
   ],
   "source": [
    "# After checking it will tell either true or false\n",
    "print('p' in 'apple')\n",
    "print('i' in 'apple')\n",
    "print(\"apple\" in [\"apple\", \"absolutely\", \"application\", \"nope\"])"
   ]
  },
  {
   "cell_type": "code",
   "execution_count": 4,
   "id": "711f4f87-45cd-4aef-b893-45c355b2a6be",
   "metadata": {},
   "outputs": [
    {
     "name": "stdout",
     "output_type": "stream",
     "text": [
      "True\n"
     ]
    }
   ],
   "source": [
    "print('x' not in 'apple')"
   ]
  }
 ],
 "metadata": {
  "kernelspec": {
   "display_name": "AIforge",
   "language": "python",
   "name": "aiforge"
  },
  "language_info": {
   "codemirror_mode": {
    "name": "ipython",
    "version": 3
   },
   "file_extension": ".py",
   "mimetype": "text/x-python",
   "name": "python",
   "nbconvert_exporter": "python",
   "pygments_lexer": "ipython3",
   "version": "3.11.4"
  }
 },
 "nbformat": 4,
 "nbformat_minor": 5
}

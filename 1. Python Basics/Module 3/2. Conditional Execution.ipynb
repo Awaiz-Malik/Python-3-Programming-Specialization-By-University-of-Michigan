{
 "cells": [
  {
   "cell_type": "code",
   "execution_count": 1,
   "id": "a9174dc5-b4e5-43e3-a2b9-688f84d65fdc",
   "metadata": {},
   "outputs": [
    {
     "name": "stdout",
     "output_type": "stream",
     "text": [
      "15 is odd\n"
     ]
    }
   ],
   "source": [
    "x = 15\n",
    "if x % 2 == 0:\n",
    "    print(x, \"is even\")\n",
    "else:\n",
    "    print(x, \"is odd\")"
   ]
  },
  {
   "cell_type": "code",
   "execution_count": 2,
   "id": "bc4e333a-7d0a-4ab2-bea9-063e4f35610f",
   "metadata": {},
   "outputs": [
    {
     "name": "stdout",
     "output_type": "stream",
     "text": [
      "10  is a positive number\n"
     ]
    }
   ],
   "source": [
    "# Incase of Mulitple relevant condition \n",
    "x = 10\n",
    "if x < 0:\n",
    "    print(x, \" is not negtive number.\")\n",
    "elif x > 0:\n",
    "    print(x, \" is a positive number\")\n",
    "else:\n",
    "    print(x, \" is zero\")"
   ]
  }
 ],
 "metadata": {
  "kernelspec": {
   "display_name": "AIforge",
   "language": "python",
   "name": "aiforge"
  },
  "language_info": {
   "codemirror_mode": {
    "name": "ipython",
    "version": 3
   },
   "file_extension": ".py",
   "mimetype": "text/x-python",
   "name": "python",
   "nbconvert_exporter": "python",
   "pygments_lexer": "ipython3",
   "version": "3.11.4"
  }
 },
 "nbformat": 4,
 "nbformat_minor": 5
}

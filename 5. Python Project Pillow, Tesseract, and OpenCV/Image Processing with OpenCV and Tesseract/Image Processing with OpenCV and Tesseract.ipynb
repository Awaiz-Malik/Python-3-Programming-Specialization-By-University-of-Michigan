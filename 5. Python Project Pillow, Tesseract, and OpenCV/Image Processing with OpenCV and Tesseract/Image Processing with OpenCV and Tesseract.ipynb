{
 "cells": [
  {
   "cell_type": "code",
   "execution_count": null,
   "id": "12fc3d2b",
   "metadata": {},
   "outputs": [],
   "source": [
    "import zipfile\n",
    "from PIL import Image\n",
    "import pytesseract\n",
    "import cv2 as cv\n",
    "import numpy as np\n",
    "\n",
    "# loading the face detection classifier\n",
    "face_cascade = cv.CascadeClassifier('haarcascade_frontalface_default.xml')"
   ]
  },
  {
   "cell_type": "markdown",
   "id": "e4530f0d",
   "metadata": {},
   "source": [
    "### Extracting Images from zip file"
   ]
  },
  {
   "cell_type": "code",
   "execution_count": null,
   "id": "7958bcaf",
   "metadata": {},
   "outputs": [],
   "source": [
    "# Lets iterate over the zip images\n",
    "# We will store them in dictionary data structure for global use\n",
    "# Download the dataset before running this cell\n",
    "iter_images = {}\n",
    "\n",
    "with zipfile.ZipFile('readonly/images.zip', 'r') as zip_image: # For testing use 'small_img.zip'\n",
    "    for file in zip_image.infolist():\n",
    "        with zip_image.open(file) as image_file:\n",
    "            # Converting image file to useful image format using pillow \n",
    "            temp_img = Image.open(image_file).convert('RGB')\n",
    "            iter_images[file.filename] = temp_img"
   ]
  },
  {
   "cell_type": "markdown",
   "id": "6da16999",
   "metadata": {},
   "source": [
    "### Extracting Text from Images"
   ]
  },
  {
   "cell_type": "code",
   "execution_count": null,
   "id": "a1ab8591-8a9a-4854-8e6c-c1ade2fe4f68",
   "metadata": {},
   "outputs": [],
   "source": [
    "# Lets create a new dictionary with image name and its text as value\n",
    "images_text = {}\n",
    "\n",
    "for file in iter_images.keys():\n",
    "    # We will use image_to_string function to extract the text from image\n",
    "    txt = pytesseract.image_to_string(iter_images[file])\n",
    "    images_text[file] = txt"
   ]
  },
  {
   "cell_type": "markdown",
   "id": "acc30003",
   "metadata": {},
   "source": [
    "### Extracting Face from Images"
   ]
  },
  {
   "cell_type": "code",
   "execution_count": null,
   "id": "54f440c7",
   "metadata": {},
   "outputs": [],
   "source": [
    "# We will use openCV to detect faces in the image\n",
    "face_images = {}\n",
    "\n",
    "for file in iter_images.keys():\n",
    "    # Reading the image using numpy array\n",
    "    cv_img = np.array(iter_images[file])\n",
    "\n",
    "    # Converting the image to gray scale\n",
    "    gray = cv.cvtColor(cv_img, cv.COLOR_BGR2GRAY)\n",
    "\n",
    "    # Detecting faces in the image\n",
    "    faces = face_cascade.detectMultiScale(gray, 1.3, 5) # 1.3 and 5 are the scaling factor and number of neighbors respectively\n",
    "\n",
    "    # Lets create a list of cropped faces of size 100x100\n",
    "    cropped_faces = []\n",
    "    for x,y,w,h in faces:\n",
    "        cropped_faces.append(iter_images[file].crop((x,y,x+w,y+h)).resize((100,100)))\n",
    "\n",
    "    # Lets store the cropped faces in a dictionary\n",
    "    face_images[file] = cropped_faces"
   ]
  },
  {
   "cell_type": "markdown",
   "id": "4b9af1d8",
   "metadata": {},
   "source": [
    "### Searching for a face using text"
   ]
  },
  {
   "cell_type": "code",
   "execution_count": null,
   "id": "17c28faa",
   "metadata": {},
   "outputs": [],
   "source": [
    "def search_faces(text):\n",
    "    for file in images_text.keys():\n",
    "        if text in images_text[file]:\n",
    "            if len(face_images[file]) != 0:\n",
    "                print(\"Result found in file {}\".format(file))\n",
    "                \n",
    "                # Calculate dimensions for the contact sheet\n",
    "                h = int(len(face_images[file]) / 5) + 1 if len(face_images[file]) % 5 != 0 else int(len(face_images[file]) / 5)\n",
    "                contact_sheet = Image.new(face_images[file][0].mode, (500, 100 * h))\n",
    "                \n",
    "                # Paste images into the contact sheet\n",
    "                x = 0\n",
    "                y = 0\n",
    "                for img in face_images[file]:\n",
    "                    contact_sheet.paste(img, (x, y))\n",
    "                    if x + 100 == contact_sheet.width:\n",
    "                        x = 0\n",
    "                        y += 100\n",
    "                    else:\n",
    "                        x += 100\n",
    "                \n",
    "                display(contact_sheet)\n",
    "            else:\n",
    "                print(\"Result found in file {} \\nBut there were no faces in that file\\n\\n\".format(file))\n"
   ]
  },
  {
   "cell_type": "code",
   "execution_count": null,
   "id": "0a27756f",
   "metadata": {},
   "outputs": [],
   "source": [
    "search_faces('Christopher')"
   ]
  },
  {
   "cell_type": "code",
   "execution_count": null,
   "id": "4ee25aa3",
   "metadata": {},
   "outputs": [],
   "source": [
    "search_faces('Mark')"
   ]
  },
  {
   "cell_type": "code",
   "execution_count": null,
   "id": "6fc69839",
   "metadata": {},
   "outputs": [],
   "source": [
    "search_faces('pizza')"
   ]
  }
 ],
 "metadata": {
  "kernelspec": {
   "display_name": "AIforge",
   "language": "python",
   "name": "aiforge"
  },
  "language_info": {
   "codemirror_mode": {
    "name": "ipython",
    "version": 3
   },
   "file_extension": ".py",
   "mimetype": "text/x-python",
   "name": "python",
   "nbconvert_exporter": "python",
   "pygments_lexer": "ipython3",
   "version": "3.12.0"
  }
 },
 "nbformat": 4,
 "nbformat_minor": 5
}

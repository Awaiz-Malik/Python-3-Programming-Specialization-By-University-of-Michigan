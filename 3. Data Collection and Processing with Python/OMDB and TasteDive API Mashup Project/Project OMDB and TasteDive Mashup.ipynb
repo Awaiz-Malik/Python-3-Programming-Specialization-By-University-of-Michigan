{
 "cells": [
  {
   "cell_type": "markdown",
   "id": "28dbcd75-6d73-4d59-8d63-207bef209f2b",
   "metadata": {},
   "source": [
    "# Project: OMDB and TasteDive Mashup"
   ]
  },
  {
   "cell_type": "markdown",
   "id": "46bdbc46-d20b-4b49-b25f-dfd3fb79ce53",
   "metadata": {},
   "source": [
    "## This Project code won't work on our normal Python Interpreter because\n",
    "### *Note: the tasteDive API is no longer functional, however, it still works within the Runestone environment \n",
    "### through the \"requests_with_caching.get()\" function.\n",
    "## Also this \"request_with_caching.get()\" function is accessible through a special module that is only available on Runstone environment"
   ]
  },
  {
   "cell_type": "code",
   "execution_count": null,
   "id": "733b231b-e5f8-4ddb-b197-1148f77c13ac",
   "metadata": {},
   "outputs": [],
   "source": [
    "import json\n",
    "import requests_with_caching\n",
    "\n",
    "def get_movies_from_tastedive(stringx):\n",
    "    baseurl = 'https://tastedive.com/api/similar'\n",
    "    params_diction = {}\n",
    "    params_diction['limit'] = 5\n",
    "    params_diction['q'] = stringx\n",
    "    params_diction['type'] = 'movies'\n",
    "    \n",
    "    tastedive_resp = requests_with_caching.get(baseurl, params = params_diction, permanent_cache_file=\"permanent_cache.txt\")\n",
    "    return tastedive_resp.json()\n",
    "\n",
    "result1 = get_movies_from_tastedive(\"Bridesmaids\")\n",
    "result2 = get_movies_from_tastedive(\"Black Panther\")\n",
    "\n",
    "print(result1)\n",
    "print(result2)"
   ]
  },
  {
   "cell_type": "code",
   "execution_count": null,
   "id": "d434a7bf-78c1-4b62-86f5-f66545140215",
   "metadata": {},
   "outputs": [],
   "source": [
    "def extract_movie_titles(dict):\n",
    "    movie_titles = [item['Name'] for item in dict['Similar']['Results']]\n",
    "    return movie_titles\n",
    "        \n",
    "    \n",
    "movie_title1 = extract_movie_titles(get_movies_from_tastedive(\"Black Panther\"))\n",
    "movie_title2 = extract_movie_titles(get_movies_from_tastedive(\"Tony Bennett\"))\n",
    "\n",
    "print(movie_title1)\n",
    "print(movie_title2)"
   ]
  },
  {
   "cell_type": "code",
   "execution_count": null,
   "id": "e13e1b7d-5d43-40e2-9182-596ec7cac23a",
   "metadata": {},
   "outputs": [],
   "source": [
    "def get_related_titles(listx):\n",
    "    movie_titles = []\n",
    "    for item in listx:\n",
    "        listy = extract_movie_titles(get_movies_from_tastedive(item))\n",
    "        for item in listy:\n",
    "            if item not in movie_titles:\n",
    "                movie_titles.append(item)\n",
    "    return movie_titles\n",
    "    \n",
    "related_movies1 = get_related_titles([\"Black Panther\", \"Captain Marvel\"])\n",
    "related_movies2 = get_related_titles([])\n",
    "\n",
    "print(related_movies1)\n",
    "print(related_movies2)"
   ]
  },
  {
   "cell_type": "code",
   "execution_count": null,
   "id": "f25f94ff-d7a8-45c0-b382-d557393707e7",
   "metadata": {},
   "outputs": [],
   "source": [
    "def get_movie_data(stringx):\n",
    "    baseurl = 'http://www.omdbapi.com/'\n",
    "    params_diction = {}\n",
    "    params_diction['t'] = stringx\n",
    "    params_diction['r'] = 'json'\n",
    "    \n",
    "    omdb_resp = requests_with_caching.get(baseurl, params = params_diction, permanent_cache_file=\"permanent_cache.txt\")\n",
    "    return omdb_resp.json()\n",
    "\n",
    "res1 = get_movie_data(\"Venom\")\n",
    "res2 = get_movie_data(\"Baby Mama\")\n",
    "print(res1)\n",
    "print(res2)"
   ]
  },
  {
   "cell_type": "code",
   "execution_count": null,
   "id": "4c23d0cd-3525-4947-8a45-0280667cd741",
   "metadata": {},
   "outputs": [],
   "source": [
    "def get_movie_rating(dict):\n",
    "    result = 0\n",
    "    for item in dict['Ratings']:\n",
    "        if item['Source'] == 'Rotten Tomatoes':\n",
    "            result = int(item['Value'].replace('%', ''))\n",
    "        else:\n",
    "            cond = True\n",
    "    if cond == False:\n",
    "        return 0\n",
    "    else:\n",
    "        return result\n",
    "        \n",
    "movie_rating = get_movie_rating(get_movie_data(\"Deadpool 2\"))\n",
    "print(movie_rating)"
   ]
  },
  {
   "cell_type": "code",
   "execution_count": null,
   "id": "d82343c9-b9b8-4992-b638-ab69c6f72e08",
   "metadata": {},
   "outputs": [],
   "source": [
    "# Now with the help of all above functions we construct a sort system\n",
    "def get_sorted_recommendations(listx):\n",
    "    rating = []\n",
    "    listy = []\n",
    "    \n",
    "    relat_movies = get_related_titles(listx)\n",
    "    rev_movies = sorted(relat_movies, reverse=True)\n",
    "    \n",
    "    for x in rev_movies:\n",
    "        rating.append(get_movie_rating(get_movie_data(x)))\n",
    "        \n",
    "    tupx = list(zip(rating, rev_movies))\n",
    "    tupx_sort = sorted(tupx, reverse=True)\n",
    "    \n",
    "    for item in tupx_sort:\n",
    "        listy.append(item[1])\n",
    "        \n",
    "    return listy\n",
    "    \n",
    "Movies = get_sorted_recommendations([\"Bridesmaids\", \"Sherlock Holmes\"])\n",
    "print(Movies)\n"
   ]
  }
 ],
 "metadata": {
  "kernelspec": {
   "display_name": "AIforge",
   "language": "python",
   "name": "aiforge"
  },
  "language_info": {
   "codemirror_mode": {
    "name": "ipython",
    "version": 3
   },
   "file_extension": ".py",
   "mimetype": "text/x-python",
   "name": "python",
   "nbconvert_exporter": "python",
   "pygments_lexer": "ipython3",
   "version": "3.11.4"
  }
 },
 "nbformat": 4,
 "nbformat_minor": 5
}

{
 "cells": [
  {
   "cell_type": "code",
   "execution_count": 1,
   "id": "6d09be5a-696c-40cd-842f-d3fb75816e0b",
   "metadata": {},
   "outputs": [],
   "source": [
    "import json\n",
    "import requests"
   ]
  },
  {
   "cell_type": "code",
   "execution_count": 2,
   "id": "27aa5aad-38a7-429e-abb7-78b9d0f5e227",
   "metadata": {},
   "outputs": [
    {
     "name": "stdout",
     "output_type": "stream",
     "text": [
      "https://www.google.com/search?q=%22violins+and+guitars%22&tbm=isch\n"
     ]
    }
   ],
   "source": [
    "d = {'q': '\"violins and guitars\"', 'tbm': 'isch'}\n",
    "results = requests.get(\"https://google.com/search\", params=d)\n",
    "print(results.url)"
   ]
  },
  {
   "cell_type": "code",
   "execution_count": 3,
   "id": "95448e1f-fb90-4dd8-97ab-b7856544163d",
   "metadata": {},
   "outputs": [
    {
     "name": "stdout",
     "output_type": "stream",
     "text": [
      "['money', 'honey', 'sunny']\n"
     ]
    }
   ],
   "source": [
    "def get_rhymes(word):\n",
    "    baseurl = \"https://api.datamuse.com/words\"\n",
    "    params_diction = {} # Set up an empty dictionary for query parameters\n",
    "    params_diction[\"rel_rhy\"] = word\n",
    "    params_diction[\"max\"] = \"3\" # get at most 3 results\n",
    "    resp = requests.get(baseurl, params=params_diction)\n",
    "    # return the top three words\n",
    "    word_ds = resp.json()\n",
    "    return [d['word'] for d in word_ds]\n",
    "    return resp.json() # Return a python object (a list of dictionaries in this case)\n",
    "\n",
    "print(get_rhymes(\"funny\"))"
   ]
  }
 ],
 "metadata": {
  "kernelspec": {
   "display_name": "AIforge",
   "language": "python",
   "name": "aiforge"
  },
  "language_info": {
   "codemirror_mode": {
    "name": "ipython",
    "version": 3
   },
   "file_extension": ".py",
   "mimetype": "text/x-python",
   "name": "python",
   "nbconvert_exporter": "python",
   "pygments_lexer": "ipython3",
   "version": "3.11.4"
  }
 },
 "nbformat": 4,
 "nbformat_minor": 5
}

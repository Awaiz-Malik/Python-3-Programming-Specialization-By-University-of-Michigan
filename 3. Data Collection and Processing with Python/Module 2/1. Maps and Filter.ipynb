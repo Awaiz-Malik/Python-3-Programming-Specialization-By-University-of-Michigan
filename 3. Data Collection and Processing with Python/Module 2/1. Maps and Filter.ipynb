{
 "cells": [
  {
   "cell_type": "code",
   "execution_count": 1,
   "id": "e445aab9-cc99-459f-b62f-1d44cba8153d",
   "metadata": {},
   "outputs": [
    {
     "name": "stdout",
     "output_type": "stream",
     "text": [
      "[2, 5, 9]\n",
      "[4, 10, 18]\n"
     ]
    }
   ],
   "source": [
    "# We see an example of the code where a function doubles the items in the list\n",
    "def doubleStuff(a_list):\n",
    "    \"\"\" Return a new list in which contains doubles of the elements in a_list. \"\"\"\n",
    "    new_list = []\n",
    "    for value in a_list:\n",
    "        new_elem = 2 * value\n",
    "        new_list.append(new_elem)\n",
    "    return new_list\n",
    "\n",
    "things = [2, 5, 9]\n",
    "print(things)\n",
    "things = doubleStuff(things)\n",
    "print(things)"
   ]
  },
  {
   "cell_type": "markdown",
   "id": "3d4d4125-dc7b-4d84-ae00-ce8fc3cc1f1b",
   "metadata": {},
   "source": [
    "### Maps Function"
   ]
  },
  {
   "cell_type": "code",
   "execution_count": 2,
   "id": "bc8c75b1-ff2b-4dfb-b97c-302b9bf419a2",
   "metadata": {},
   "outputs": [
    {
     "name": "stdout",
     "output_type": "stream",
     "text": [
      "[6, 15, 27]\n"
     ]
    }
   ],
   "source": [
    "# Whatif we use map function to perform our previous code job\n",
    "def triple(value):\n",
    "    return 3*value\n",
    "\n",
    "def tripleStuff(a_list):\n",
    "    new_seq = map(triple, a_list) # Here triple itself is a function\n",
    "    return list(new_seq)\n",
    "\n",
    "things = [2, 5, 9]\n",
    "things3 = tripleStuff(things)\n",
    "print(things3)"
   ]
  },
  {
   "cell_type": "code",
   "execution_count": 3,
   "id": "8d49e1e1-a405-405c-9c4f-52625b8e0b23",
   "metadata": {},
   "outputs": [
    {
     "name": "stdout",
     "output_type": "stream",
     "text": [
      "[8, 20, 36]\n"
     ]
    }
   ],
   "source": [
    "# We had learn't the concept of Lambda Function, let's use it here\n",
    "def quadrupleStuff(a_list):\n",
    "    new_seq = map(lambda value: 4*value, a_list)\n",
    "    return list(new_seq)\n",
    "\n",
    "things4 = quadrupleStuff(things) # We use our previous thing variable here\n",
    "print(things4)"
   ]
  },
  {
   "cell_type": "markdown",
   "id": "0d7d30ee-3672-4e9a-b411-30888698f4d4",
   "metadata": {},
   "source": [
    "### Filter Function"
   ]
  },
  {
   "cell_type": "code",
   "execution_count": 4,
   "id": "9e385b2e-f21f-4c1f-97f7-93c95c88d4ed",
   "metadata": {},
   "outputs": [
    {
     "name": "stdout",
     "output_type": "stream",
     "text": [
      "[4, 6, 0]\n"
     ]
    }
   ],
   "source": [
    "# Unlike map() i filter we don't change the content in the list rather filter the list according to desire condition\n",
    "def keep_evens(nums):\n",
    "    new_seq = filter(lambda num: num % 2 == 0, nums) # As in our previous triplestuff(), we can create external function instead of this lambda\n",
    "    return list(new_seq)\n",
    "\n",
    "print(keep_evens([3, 4, 6, 7, 0, 1]))"
   ]
  }
 ],
 "metadata": {
  "kernelspec": {
   "display_name": "AIforge",
   "language": "python",
   "name": "aiforge"
  },
  "language_info": {
   "codemirror_mode": {
    "name": "ipython",
    "version": 3
   },
   "file_extension": ".py",
   "mimetype": "text/x-python",
   "name": "python",
   "nbconvert_exporter": "python",
   "pygments_lexer": "ipython3",
   "version": "3.11.4"
  }
 },
 "nbformat": 4,
 "nbformat_minor": 5
}

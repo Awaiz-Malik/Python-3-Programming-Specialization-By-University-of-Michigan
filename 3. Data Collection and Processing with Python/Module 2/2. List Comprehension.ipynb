{
 "cells": [
  {
   "cell_type": "markdown",
   "id": "0b98ba33-3ec1-46e1-9a42-3c90c48a131f",
   "metadata": {},
   "source": [
    "## List Comprehensions"
   ]
  },
  {
   "cell_type": "raw",
   "id": "cd57a1d1-4116-4a85-a568-e7f99709c276",
   "metadata": {},
   "source": [
    "List_Compri = [<transformer_expression> for <loop_var> in <sequence> if <filtration_expression>]"
   ]
  },
  {
   "cell_type": "code",
   "execution_count": 1,
   "id": "7dc088c1-633b-4ca7-bf8e-98f6ace3ac18",
   "metadata": {},
   "outputs": [
    {
     "name": "stdout",
     "output_type": "stream",
     "text": [
      "[4, 10, 18]\n"
     ]
    }
   ],
   "source": [
    "# So Basically List Comprehension is method of creating a list using both map and filter but in one statement\n",
    "things = [2, 5, 9]\n",
    "\n",
    "yourlist = [value * 2 for value in things]\n",
    "\n",
    "print(yourlist)"
   ]
  },
  {
   "cell_type": "code",
   "execution_count": 2,
   "id": "198ffad4-76be-48fa-abcf-3afd4cf808ea",
   "metadata": {},
   "outputs": [
    {
     "name": "stdout",
     "output_type": "stream",
     "text": [
      "[4, 6, 0]\n"
     ]
    }
   ],
   "source": [
    "def keep_evens(nums):\n",
    "    new_list = [num for num in nums if num % 2 == 0]\n",
    "    return new_list\n",
    "\n",
    "print(keep_evens([3, 4, 6, 7, 0, 1]))"
   ]
  }
 ],
 "metadata": {
  "kernelspec": {
   "display_name": "AIforge",
   "language": "python",
   "name": "aiforge"
  },
  "language_info": {
   "codemirror_mode": {
    "name": "ipython",
    "version": 3
   },
   "file_extension": ".py",
   "mimetype": "text/x-python",
   "name": "python",
   "nbconvert_exporter": "python",
   "pygments_lexer": "ipython3",
   "version": "3.11.4"
  }
 },
 "nbformat": 4,
 "nbformat_minor": 5
}

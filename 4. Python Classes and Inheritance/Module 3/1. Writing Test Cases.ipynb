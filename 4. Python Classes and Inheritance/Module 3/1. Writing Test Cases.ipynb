{
 "cells": [
  {
   "cell_type": "code",
   "execution_count": null,
   "id": "3075edb0-6d1e-470c-b0bf-6da65ba74202",
   "metadata": {},
   "outputs": [],
   "source": [
    "# This 'testEqual' module will only work in the runestone environment\n",
    "import test \n",
    "\n",
    "def square(x):\n",
    "    return x*x\n",
    "\n",
    "test.testEqual(square(10), 100) # Here as square of 10 is 100\n",
    "# The output will be pass"
   ]
  },
  {
   "cell_type": "code",
   "execution_count": null,
   "id": "4b609797-4a2c-4e30-8b5a-673d60f5b8d2",
   "metadata": {},
   "outputs": [],
   "source": [
    "def distance(x1, y1, x2, y2):\n",
    "    dx = x2 - x1\n",
    "    dy = y2 - y1\n",
    "    dsquared = dx**2 + dy**2\n",
    "    result = dsquared**0.5\n",
    "    return result\n",
    "\n",
    "assert distance(1, 2, 1, 2) == 0\n",
    "assert distance(1,2, 4,6) == 5\n",
    "assert distance(0,0, 1,1) == 2**0.5"
   ]
  },
  {
   "cell_type": "markdown",
   "id": "9e504c3e-6321-4944-a265-55141d48b810",
   "metadata": {},
   "source": [
    "### Testing Classes"
   ]
  },
  {
   "cell_type": "code",
   "execution_count": null,
   "id": "47afdcd3-4014-44ce-870b-d577acac219d",
   "metadata": {},
   "outputs": [],
   "source": [
    "class Point:\n",
    "    \"\"\" Point class for representing and manipulating x,y coordinates. \"\"\"\n",
    "\n",
    "    def __init__(self, initX, initY):\n",
    "\n",
    "        self.x = initX\n",
    "        self.y = initY\n",
    "\n",
    "    def distanceFromOrigin(self):\n",
    "        return ((self.x ** 2) + (self.y ** 2)) ** 0.5\n",
    "\n",
    "    def move(self, dx, dy):\n",
    "        self.x = self.x + dx\n",
    "        self.y = self.y + dy\n",
    "\n",
    "\n",
    "#testing class constructor (__init__ method)\n",
    "p = Point(3, 4)\n",
    "assert p.y == 4\n",
    "assert p.x == 3\n",
    "\n",
    "#testing the distance method\n",
    "p = Point(3, 4)\n",
    "assert p.distanceFromOrigin() == 5.0\n",
    "\n",
    "#testing the move method\n",
    "p = Point(3, 4)\n",
    "p.move(-2, 3)\n",
    "assert p.x == 1\n",
    "assert p.y == 7"
   ]
  }
 ],
 "metadata": {
  "kernelspec": {
   "display_name": "AIforge",
   "language": "python",
   "name": "aiforge"
  },
  "language_info": {
   "codemirror_mode": {
    "name": "ipython",
    "version": 3
   },
   "file_extension": ".py",
   "mimetype": "text/x-python",
   "name": "python",
   "nbconvert_exporter": "python",
   "pygments_lexer": "ipython3",
   "version": "3.11.4"
  }
 },
 "nbformat": 4,
 "nbformat_minor": 5
}

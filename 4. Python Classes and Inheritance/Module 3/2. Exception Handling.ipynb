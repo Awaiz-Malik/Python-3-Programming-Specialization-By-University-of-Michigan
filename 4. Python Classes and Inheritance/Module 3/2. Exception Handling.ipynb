{
 "cells": [
  {
   "cell_type": "code",
   "execution_count": 1,
   "id": "c93cb4fb-4526-4292-a15e-8bb2adf6bda4",
   "metadata": {},
   "outputs": [
    {
     "ename": "IndexError",
     "evalue": "list index out of range",
     "output_type": "error",
     "traceback": [
      "\u001b[1;31m---------------------------------------------------------------------------\u001b[0m",
      "\u001b[1;31mIndexError\u001b[0m                                Traceback (most recent call last)",
      "Cell \u001b[1;32mIn[1], line 2\u001b[0m\n\u001b[0;32m      1\u001b[0m items \u001b[38;5;241m=\u001b[39m [\u001b[38;5;124m'\u001b[39m\u001b[38;5;124ma\u001b[39m\u001b[38;5;124m'\u001b[39m, \u001b[38;5;124m'\u001b[39m\u001b[38;5;124mb\u001b[39m\u001b[38;5;124m'\u001b[39m]\n\u001b[1;32m----> 2\u001b[0m third \u001b[38;5;241m=\u001b[39m \u001b[43mitems\u001b[49m\u001b[43m[\u001b[49m\u001b[38;5;241;43m2\u001b[39;49m\u001b[43m]\u001b[49m \u001b[38;5;66;03m# Here we will encounter an runtime error\u001b[39;00m\n",
      "\u001b[1;31mIndexError\u001b[0m: list index out of range"
     ]
    }
   ],
   "source": [
    "items = ['a', 'b']\n",
    "third = items[2] # Here we will encounter an runtime error"
   ]
  },
  {
   "cell_type": "code",
   "execution_count": 2,
   "id": "dfbcc086-8a53-497d-bd93-a5110dff8d63",
   "metadata": {},
   "outputs": [
    {
     "name": "stdout",
     "output_type": "stream",
     "text": [
      "got an error\n",
      "continuing\n"
     ]
    }
   ],
   "source": [
    "# To resolve the above runtime error we can use try and except\n",
    "try:\n",
    "    items = ['a', 'b']\n",
    "    third = items[2]\n",
    "    print(\"This won't print\")\n",
    "except Exception: # Here this Exception is the name of error\n",
    "    print(\"got an error\")\n",
    "\n",
    "print(\"continuing\")"
   ]
  }
 ],
 "metadata": {
  "kernelspec": {
   "display_name": "AIforge",
   "language": "python",
   "name": "aiforge"
  },
  "language_info": {
   "codemirror_mode": {
    "name": "ipython",
    "version": 3
   },
   "file_extension": ".py",
   "mimetype": "text/x-python",
   "name": "python",
   "nbconvert_exporter": "python",
   "pygments_lexer": "ipython3",
   "version": "3.11.4"
  }
 },
 "nbformat": 4,
 "nbformat_minor": 5
}

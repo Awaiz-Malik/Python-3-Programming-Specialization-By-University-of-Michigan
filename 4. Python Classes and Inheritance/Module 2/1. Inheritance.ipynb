{
 "cells": [
  {
   "cell_type": "code",
   "execution_count": 1,
   "id": "04299d1f-e9a6-4f7d-9d18-e680f062a5a5",
   "metadata": {},
   "outputs": [
    {
     "name": "stdout",
     "output_type": "stream",
     "text": [
      "Awaiz born in 2002\n"
     ]
    }
   ],
   "source": [
    "class Person:\n",
    "    def __init__(self, x, y):\n",
    "        self.name = x\n",
    "        self.year = y\n",
    "    def __str__(self):\n",
    "        return '{} born in {}'.format(self.name, self.year)\n",
    "\n",
    "# Now for inheriting this class \n",
    "\n",
    "class Student(Person):\n",
    "    # Now to call the constructor of parent class in child class \n",
    "    def __init__(self, x, y):\n",
    "        Person.__init__(self, x, y)\n",
    "\n",
    "obj = Student('Awaiz', 2002)\n",
    "print(obj)"
   ]
  }
 ],
 "metadata": {
  "kernelspec": {
   "display_name": "AIforge",
   "language": "python",
   "name": "aiforge"
  },
  "language_info": {
   "codemirror_mode": {
    "name": "ipython",
    "version": 3
   },
   "file_extension": ".py",
   "mimetype": "text/x-python",
   "name": "python",
   "nbconvert_exporter": "python",
   "pygments_lexer": "ipython3",
   "version": "3.11.4"
  }
 },
 "nbformat": 4,
 "nbformat_minor": 5
}

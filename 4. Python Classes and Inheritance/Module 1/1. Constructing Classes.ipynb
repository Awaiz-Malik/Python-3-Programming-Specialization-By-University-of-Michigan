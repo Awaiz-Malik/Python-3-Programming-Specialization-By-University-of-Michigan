{
 "cells": [
  {
   "cell_type": "code",
   "execution_count": 1,
   "id": "3f05384c-15ea-4f56-934c-e38cb7dcfd1f",
   "metadata": {},
   "outputs": [
    {
     "name": "stdout",
     "output_type": "stream",
     "text": [
      "<__main__.Point object at 0x000001EF18CB5B10>\n",
      "5\n"
     ]
    }
   ],
   "source": [
    "# Lets create a simple classe\n",
    "\n",
    "class Point():\n",
    "    pass\n",
    "\n",
    "point = Point()\n",
    "print(point)\n",
    "\n",
    "point1 = Point()\n",
    "point1.x = 5\n",
    "print(point1.x)"
   ]
  },
  {
   "cell_type": "code",
   "execution_count": 2,
   "id": "1823c7f6-817b-408b-82ec-cdb7a8361573",
   "metadata": {},
   "outputs": [
    {
     "name": "stdout",
     "output_type": "stream",
     "text": [
      "10\n"
     ]
    }
   ],
   "source": [
    "class Point1():\n",
    "    def getx(self):   # What we actually created here seems like a function but it is called methods\n",
    "        return self.x\n",
    "\n",
    "obj = Point1()\n",
    "obj.x = 10\n",
    "\n",
    "print(obj.getx())"
   ]
  },
  {
   "cell_type": "markdown",
   "id": "0efe8ecd-7d37-4c5c-92a1-73f89978efce",
   "metadata": {},
   "source": [
    "### Construtor AKA `__init__` AKA (dunderscore-init-dunderscore)"
   ]
  },
  {
   "cell_type": "code",
   "execution_count": 3,
   "id": "3ee4503f-bc7e-4143-940c-2c5901c07894",
   "metadata": {},
   "outputs": [
    {
     "name": "stdout",
     "output_type": "stream",
     "text": [
      "10\n",
      "20\n"
     ]
    }
   ],
   "source": [
    "class initialize:\n",
    "    def __init__(self,x,y): # BTW this is just like our parameterised constructor in c++\n",
    "        self.x = x\n",
    "        self.y = y\n",
    "    def getX(self):\n",
    "        return self.x\n",
    "    def getY(self):  \n",
    "        return self.y\n",
    "        \n",
    "# Now its must for us to pass two aurguments while creating instance of the class\n",
    "obj1 = initialize(10,20)\n",
    "print(obj1.getX())\n",
    "print(obj1.getY())\n"
   ]
  },
  {
   "cell_type": "code",
   "execution_count": 7,
   "id": "a6132e5a-f821-43b4-9f2f-b991b01bc924",
   "metadata": {},
   "outputs": [],
   "source": [
    "citynames = ['Detroit', 'Ann Arbor', 'New York']\n",
    "populations = [680250, 480976, 380000]\n",
    "states = ['HI', 'KS', 'IH']\n",
    "\n",
    "citytuples = zip(citynames, populations, states)\n",
    "\n",
    "class City:\n",
    "    def __init__(self, n, p, s):\n",
    "        self.name = n\n",
    "        self.population = p\n",
    "        self.state = s\n",
    "\n",
    "    def __str__(self):\n",
    "        return '{},  {}  (Population:  {})'.format(self.name, self.state, self.population)"
   ]
  },
  {
   "cell_type": "code",
   "execution_count": 5,
   "id": "60bf62ee-36aa-4041-846e-4b7282eaacc7",
   "metadata": {},
   "outputs": [
    {
     "name": "stdout",
     "output_type": "stream",
     "text": [
      "[<__main__.City object at 0x000001EF18D47BD0>, <__main__.City object at 0x000001EF18D47F10>, <__main__.City object at 0x000001EF18D47A50>]\n"
     ]
    }
   ],
   "source": [
    "cities = []\n",
    "\n",
    "for city_tup in citytuples:\n",
    "    name, state, pop = city_tup\n",
    "    city = City(name,state,pop)\n",
    "    cities.append(city)\n",
    "\n",
    "print(cities)"
   ]
  },
  {
   "cell_type": "code",
   "execution_count": 8,
   "id": "ada0a2d0-a002-4b38-9fb7-d4ce032049cd",
   "metadata": {},
   "outputs": [
    {
     "name": "stdout",
     "output_type": "stream",
     "text": [
      "[<__main__.City object at 0x000001EF18D47A90>, <__main__.City object at 0x000001EF18D47650>, <__main__.City object at 0x000001EF18D44310>]\n"
     ]
    }
   ],
   "source": [
    "# Another way of doingf same above task\n",
    "cities1 = []\n",
    "\n",
    "cities1 = [City(n,p,s) for n,s,p in citytuples]\n",
    "print(cities1)"
   ]
  }
 ],
 "metadata": {
  "kernelspec": {
   "display_name": "AIforge",
   "language": "python",
   "name": "aiforge"
  },
  "language_info": {
   "codemirror_mode": {
    "name": "ipython",
    "version": 3
   },
   "file_extension": ".py",
   "mimetype": "text/x-python",
   "name": "python",
   "nbconvert_exporter": "python",
   "pygments_lexer": "ipython3",
   "version": "3.11.4"
  }
 },
 "nbformat": 4,
 "nbformat_minor": 5
}

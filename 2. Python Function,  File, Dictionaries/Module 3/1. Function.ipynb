{
 "cells": [
  {
   "cell_type": "markdown",
   "id": "c86de2ed-1175-4017-89f3-5ce9b243afcc",
   "metadata": {},
   "source": [
    "### Functions:"
   ]
  },
  {
   "cell_type": "code",
   "execution_count": 1,
   "id": "b8eb9980-f624-47c9-879f-cba0f58da079",
   "metadata": {},
   "outputs": [
    {
     "name": "stdout",
     "output_type": "stream",
     "text": [
      "Glad to meet you\n"
     ]
    }
   ],
   "source": [
    "# We will first define our function\n",
    "def hello():\n",
    "    print(\"Glad to meet you\")\n",
    "\n",
    "# Now we will call this Function\n",
    "hello()"
   ]
  },
  {
   "cell_type": "code",
   "execution_count": 2,
   "id": "34f6c578-a776-4946-944b-f3333e5add72",
   "metadata": {},
   "outputs": [
    {
     "name": "stdout",
     "output_type": "stream",
     "text": [
      "Hello Awaiz\n"
     ]
    }
   ],
   "source": [
    "# Now lets pass an aurgument to our function\n",
    "def hello2(s):\n",
    "    print(\"Hello \" + s)\n",
    "\n",
    "# While calling we will pass the aurgument to our function\n",
    "hello2(\"Awaiz\")"
   ]
  },
  {
   "cell_type": "markdown",
   "id": "90117449-33c6-4cb7-8dbe-a5a453f05e3c",
   "metadata": {},
   "source": [
    "### Global Variable"
   ]
  },
  {
   "cell_type": "code",
   "execution_count": 3,
   "id": "addc5f48-7feb-487c-b70c-e1d24d275e64",
   "metadata": {},
   "outputs": [
    {
     "name": "stdout",
     "output_type": "stream",
     "text": [
      "100\n"
     ]
    }
   ],
   "source": [
    "def badsquare(x):\n",
    "    y = x ** power # Here power act as global variable \n",
    "    return y\n",
    "\n",
    "power = 2\n",
    "result = badsquare(10)\n",
    "print(result)"
   ]
  }
 ],
 "metadata": {
  "kernelspec": {
   "display_name": "AIforge",
   "language": "python",
   "name": "aiforge"
  },
  "language_info": {
   "codemirror_mode": {
    "name": "ipython",
    "version": 3
   },
   "file_extension": ".py",
   "mimetype": "text/x-python",
   "name": "python",
   "nbconvert_exporter": "python",
   "pygments_lexer": "ipython3",
   "version": "3.11.4"
  }
 },
 "nbformat": 4,
 "nbformat_minor": 5
}

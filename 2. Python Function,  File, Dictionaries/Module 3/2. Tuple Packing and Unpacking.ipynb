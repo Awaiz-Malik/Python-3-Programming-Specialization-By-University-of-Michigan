{
 "cells": [
  {
   "cell_type": "markdown",
   "id": "d523219b-4acc-4271-ae0e-c33273124ff6",
   "metadata": {},
   "source": [
    "### Tuple Packing"
   ]
  },
  {
   "cell_type": "code",
   "execution_count": 1,
   "id": "b7d389fb-3bb8-47bc-abbc-37551e8ff648",
   "metadata": {},
   "outputs": [
    {
     "name": "stdout",
     "output_type": "stream",
     "text": [
      "('Julia', 'Roberts', 1967, 'Duplicity', 2009, 'Actress', 'Atlanta, Georgia')\n"
     ]
    }
   ],
   "source": [
    "julia = \"Julia\", \"Roberts\", 1967, \"Duplicity\", 2009, \"Actress\", \"Atlanta, Georgia\"\n",
    "print(julia) # Here we see it automatically made the julia list as tuple "
   ]
  },
  {
   "cell_type": "code",
   "execution_count": 2,
   "id": "4d23aa56-73b2-4c54-8341-7c4a8b727984",
   "metadata": {},
   "outputs": [
    {
     "name": "stdout",
     "output_type": "stream",
     "text": [
      "(62.8318, 314.159)\n"
     ]
    }
   ],
   "source": [
    "def circleInfo(r):\n",
    "    \"\"\" Return (circumference, area) of a circle of radius r \"\"\"\n",
    "    c = 2 * 3.14159 * r\n",
    "    a = 3.14159 * r * r\n",
    "    return c, a\n",
    "\n",
    "print(circleInfo(10)) # Now we see again tuple is being packed automatically"
   ]
  },
  {
   "cell_type": "markdown",
   "id": "4cd4385d-320f-47dd-9c05-6a259d0f6a42",
   "metadata": {},
   "source": [
    "### Tuple Unpacking"
   ]
  },
  {
   "cell_type": "code",
   "execution_count": 3,
   "id": "66d07e38-58ae-48cb-83a1-a20ece4b02b2",
   "metadata": {},
   "outputs": [],
   "source": [
    "# This is the most simple case for tuple unpacking \n",
    "julia = \"Julia\", \"Roberts\", 1967, \"Duplicity\", 2009, \"Actress\", \"Atlanta, Georgia\"\n",
    "name, surname, birth_year, movie, movie_year, profession, birth_place = julia"
   ]
  },
  {
   "cell_type": "code",
   "execution_count": 4,
   "id": "7347de8e-25f4-430c-b5b7-41dc663af688",
   "metadata": {},
   "outputs": [
    {
     "ename": "ValueError",
     "evalue": "not enough values to unpack (expected 4, got 3)",
     "output_type": "error",
     "traceback": [
      "\u001b[1;31m---------------------------------------------------------------------------\u001b[0m",
      "\u001b[1;31mValueError\u001b[0m                                Traceback (most recent call last)",
      "Cell \u001b[1;32mIn[4], line 2\u001b[0m\n\u001b[0;32m      1\u001b[0m \u001b[38;5;66;03m# But we have to keep in mind that variables of left side and values at right side must me equal\u001b[39;00m\n\u001b[1;32m----> 2\u001b[0m (a, b, c, d) \u001b[38;5;241m=\u001b[39m (\u001b[38;5;241m1\u001b[39m, \u001b[38;5;241m2\u001b[39m, \u001b[38;5;241m3\u001b[39m) \u001b[38;5;66;03m# ValueError: need more than 3 values to unpack\u001b[39;00m\n",
      "\u001b[1;31mValueError\u001b[0m: not enough values to unpack (expected 4, got 3)"
     ]
    }
   ],
   "source": [
    "# But we have to keep in mind that variables of left side and values at right side must me equal\n",
    "(a, b, c, d) = (1, 2, 3) # ValueError: need more than 3 values to unpack"
   ]
  },
  {
   "cell_type": "code",
   "execution_count": 5,
   "id": "db9809bf-c5af-4f89-8118-e4cac12c8b4e",
   "metadata": {},
   "outputs": [
    {
     "name": "stdout",
     "output_type": "stream",
     "text": [
      "Key k1 Value 10\n",
      "Key k2 Value 20\n",
      "Key k3 Value 30\n"
     ]
    }
   ],
   "source": [
    "# This is a way of unpacking from dictionaries\n",
    "d = {'k1':10, 'k2':20, 'k3':30}\n",
    "for k, v in d.items():     # # Here automatically keys and value will be assigned to k and v respectively, But remember to use item().\n",
    "    print('Key', k, 'Value', v)    \n",
    " "
   ]
  },
  {
   "cell_type": "code",
   "execution_count": 6,
   "id": "8224a2a0-78e3-48b9-ba44-66d208a41a8e",
   "metadata": {},
   "outputs": [
    {
     "name": "stdout",
     "output_type": "stream",
     "text": [
      "10 20 30\n"
     ]
    }
   ],
   "source": [
    "d = {'k1':10, 'k2':20, 'k3':30}\n",
    "def fun(k1,k2,k3):\n",
    "    print(k1,k2,k3)\n",
    "fun(**d)    # Here `**` tells the interpreter that d should be unpacked before the function call"
   ]
  }
 ],
 "metadata": {
  "kernelspec": {
   "display_name": "AIforge",
   "language": "python",
   "name": "aiforge"
  },
  "language_info": {
   "codemirror_mode": {
    "name": "ipython",
    "version": 3
   },
   "file_extension": ".py",
   "mimetype": "text/x-python",
   "name": "python",
   "nbconvert_exporter": "python",
   "pygments_lexer": "ipython3",
   "version": "3.11.4"
  }
 },
 "nbformat": 4,
 "nbformat_minor": 5
}

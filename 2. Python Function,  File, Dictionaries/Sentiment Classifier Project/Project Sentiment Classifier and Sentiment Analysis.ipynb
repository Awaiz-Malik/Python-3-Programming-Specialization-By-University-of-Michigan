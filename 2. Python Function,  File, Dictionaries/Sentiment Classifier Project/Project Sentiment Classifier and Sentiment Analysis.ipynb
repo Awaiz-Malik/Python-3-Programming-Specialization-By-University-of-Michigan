{
 "cells": [
  {
   "cell_type": "code",
   "execution_count": 1,
   "id": "a0ee66e3-fd61-4004-8e3e-ea719d7c832d",
   "metadata": {},
   "outputs": [],
   "source": [
    "punctuation_chars = [\"'\", '\"', \",\", \".\", \"!\", \":\", \";\", '#', '@']\n",
    "\n",
    "def strip_punctuation(stringx):\n",
    "    for char in punctuation_chars:\n",
    "        stringx = stringx.replace(char, '')\n",
    "    return stringx"
   ]
  },
  {
   "cell_type": "code",
   "execution_count": 2,
   "id": "09a8e7fc-74ce-447c-9a7f-766d89bd6c33",
   "metadata": {},
   "outputs": [],
   "source": [
    "positive_words = []\n",
    "with open(\"positive_words.txt\") as pos_f:\n",
    "    for lin in pos_f:\n",
    "        if lin[0] != ';' and lin[0] != '\\n':\n",
    "            positive_words.append(lin.strip())\n",
    "\n",
    "def get_pos(stringx):\n",
    "    count = 0\n",
    "    stringx = stringx.lower()\n",
    "    stringx = strip_punctuation(stringx)\n",
    "    list_stringx = stringx.split()\n",
    "\n",
    "    for x in positive_words:\n",
    "        if x in list_stringx:\n",
    "            count += 1\n",
    "    return count"
   ]
  },
  {
   "cell_type": "code",
   "execution_count": 3,
   "id": "97a44f48-a923-4df8-a76d-1badf82a85c0",
   "metadata": {},
   "outputs": [],
   "source": [
    "negative_words = []\n",
    "with open(\"negative_words.txt\") as pos_f:\n",
    "    for lin in pos_f:\n",
    "        if lin[0] != ';' and lin[0] != '\\n':\n",
    "            negative_words.append(lin.strip())\n",
    "\n",
    "def get_neg(stringx):\n",
    "    count = 0\n",
    "    stringx = stringx.lower()\n",
    "    stringx = strip_punctuation(stringx)\n",
    "    list_stringx = stringx.split()\n",
    "\n",
    "    for x in negative_words:\n",
    "        if x in list_stringx:\n",
    "            count += 1\n",
    "    return count"
   ]
  },
  {
   "cell_type": "code",
   "execution_count": 4,
   "id": "4665de76-2f9f-4897-a9c9-e0cd02f0d9e0",
   "metadata": {},
   "outputs": [],
   "source": [
    "positive_score = []\n",
    "negative_score = []\n",
    "no_of_retweets = []\n",
    "no_of_replies = []\n",
    "net_score = []\n",
    "header = ''"
   ]
  },
  {
   "cell_type": "code",
   "execution_count": 5,
   "id": "14814000-0fd7-4a6f-999b-5f731a44a873",
   "metadata": {},
   "outputs": [],
   "source": [
    "with open('project_twitter_data.csv', 'r') as md:\n",
    "    lines = md.readlines()\n",
    "    header = lines[0]\n",
    "    del lines[0]\n",
    "    for x in lines:\n",
    "        y1, y2 = 0, 0\n",
    "        replies = ''\n",
    "        retweets = ''\n",
    "        net = 0\n",
    "        # Lets find the positive and negative score\n",
    "        listx = x.split()\n",
    "        for item in listx:\n",
    "            # For Positive and Negative Score\n",
    "            y1 += get_pos(item)\n",
    "            y2 += get_neg(item)\n",
    "            \n",
    "            # For Net Scores\n",
    "            x1 = int(y1)\n",
    "            x2 = int(y2)\n",
    "            net = x1 - x2\n",
    "            \n",
    "            # For Replies\n",
    "            replies = item[-1:]\n",
    "            \n",
    "            # For Retweets\n",
    "            z = item.split(',')\n",
    "            if len(z) == 3:\n",
    "                retweets = z[1]\n",
    "            \n",
    "        positive_score.append(str(y1))\n",
    "        negative_score.append(str(y2))\n",
    "        no_of_replies.append(replies)\n",
    "        no_of_retweets.append(retweets)\n",
    "        net_score.append(str(net))"
   ]
  },
  {
   "cell_type": "code",
   "execution_count": 6,
   "id": "b95e6c16-58c2-4fcb-8898-9cc7880c3eec",
   "metadata": {},
   "outputs": [
    {
     "name": "stdout",
     "output_type": "stream",
     "text": [
      "['0', '2', '1', '1', '2', '2', '2', '0', '0', '4', '0', '1', '1', '1', '1', '2', '3', '2', '1']\n",
      "['0', '2', '0', '0', '0', '0', '0', '3', '2', '0', '1', '0', '0', '0', '0', '1', '0', '1', '1']\n",
      "['0', '0', '2', '1', '0', '5', '0', '0', '0', '2', '0', '0', '0', '1', '2', '0', '6', '0', '0']\n",
      "['3', '1', '1', '3', '6', '9', '19', '0', '0', '82', '0', '0', '47', '2', '0', '0', '4', '19', '0']\n",
      "['0', '0', '1', '1', '2', '2', '2', '-3', '-2', '4', '-1', '1', '1', '1', '1', '1', '3', '1', '0']\n"
     ]
    }
   ],
   "source": [
    "# Just to confirm we got right values\n",
    "print(positive_score)\n",
    "print(negative_score)\n",
    "print(no_of_replies)\n",
    "print(no_of_retweets)\n",
    "print(net_score)"
   ]
  },
  {
   "cell_type": "code",
   "execution_count": 7,
   "id": "715f9549-14b4-45eb-8120-357b8dfa8a2d",
   "metadata": {},
   "outputs": [],
   "source": [
    "# Now for Uploading the data on csv file\n",
    "with open('resulting_data.csv', 'w') as sd:\n",
    "    sd.write('Number of Retweets, Number of Replies, Positive Score, Negative Score, Net Score\\n')\n",
    "    for i in range(len(no_of_retweets)):\n",
    "        sd.write(\"{},{},{},{},{}\\n\".format(no_of_retweets[i], no_of_replies[i], positive_score[i], negative_score[i], net_score[i]))"
   ]
  }
 ],
 "metadata": {
  "kernelspec": {
   "display_name": "AIforge",
   "language": "python",
   "name": "aiforge"
  },
  "language_info": {
   "codemirror_mode": {
    "name": "ipython",
    "version": 3
   },
   "file_extension": ".py",
   "mimetype": "text/x-python",
   "name": "python",
   "nbconvert_exporter": "python",
   "pygments_lexer": "ipython3",
   "version": "3.11.4"
  }
 },
 "nbformat": 4,
 "nbformat_minor": 5
}

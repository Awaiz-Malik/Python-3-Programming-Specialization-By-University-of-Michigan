{
 "cells": [
  {
   "cell_type": "markdown",
   "id": "776035be-240e-426e-a802-48d4ea9e7955",
   "metadata": {},
   "source": [
    "### Accumulation Patterns for Dictionaries"
   ]
  },
  {
   "cell_type": "code",
   "execution_count": 1,
   "id": "3fc0254c-8cb9-4c8d-a777-37b52e14be97",
   "metadata": {},
   "outputs": [
    {
     "name": "stdout",
     "output_type": "stream",
     "text": [
      "B are 2  times in the placement\n",
      "e are 17  times in the placement\n",
      "a are 12  times in the placement\n",
      "c are 8  times in the placement\n",
      "h are 4  times in the placement\n",
      "s are 10  times in the placement\n",
      "  are 27  times in the placement\n",
      "r are 7  times in the placement\n",
      "o are 10  times in the placement\n",
      "l are 8  times in the placement\n",
      "p are 6  times in the placement\n",
      "t are 8  times in the placement\n",
      "v are 3  times in the placement\n",
      "i are 13  times in the placement\n",
      "n are 7  times in the placement\n",
      "g are 2  times in the placement\n",
      "w are 3  times in the placement\n",
      "M are 3  times in the placement\n",
      "k are 2  times in the placement\n",
      "d are 2  times in the placement\n",
      ". are 2  times in the placement\n",
      "x are 1  times in the placement\n"
     ]
    }
   ],
   "source": [
    "placement = \"Beaches are cool places to visit in spring however the Mackinaw Bridge is near. Most people visit Mackinaw later since the island is a cool place to explore.\"\n",
    "\n",
    "mydic = {}\n",
    "\n",
    "for c in placement:\n",
    "    if c not in mydic:\n",
    "        mydic[c] = 0\n",
    "    mydic[c] += 1\n",
    "\n",
    "for x in mydic:\n",
    "    print(x + ' are ' + str(mydic[x]) +'  times in the placement')"
   ]
  }
 ],
 "metadata": {
  "kernelspec": {
   "display_name": "AIforge",
   "language": "python",
   "name": "aiforge"
  },
  "language_info": {
   "codemirror_mode": {
    "name": "ipython",
    "version": 3
   },
   "file_extension": ".py",
   "mimetype": "text/x-python",
   "name": "python",
   "nbconvert_exporter": "python",
   "pygments_lexer": "ipython3",
   "version": "3.11.4"
  }
 },
 "nbformat": 4,
 "nbformat_minor": 5
}

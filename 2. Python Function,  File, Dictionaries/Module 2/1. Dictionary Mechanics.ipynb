{
 "cells": [
  {
   "cell_type": "markdown",
   "id": "6a148a73-de68-442c-a88c-0f1bc88d44b2",
   "metadata": {},
   "source": [
    "### Dictionaries"
   ]
  },
  {
   "cell_type": "code",
   "execution_count": 1,
   "id": "d9b5b4b9-575f-4893-808a-010776352f9a",
   "metadata": {},
   "outputs": [
    {
     "name": "stdout",
     "output_type": "stream",
     "text": [
      "6\n"
     ]
    }
   ],
   "source": [
    "# Dictionary is an unordered collection of items, we use `{}` for dictionaries\n",
    "mydict = {\"cat\":12, \"dog\":6, \"elephant\":23}\n",
    "print(mydict[\"dog\"])"
   ]
  },
  {
   "cell_type": "code",
   "execution_count": 2,
   "id": "fb4c7c67-90a7-4c55-8cae-6fa6d0988e49",
   "metadata": {},
   "outputs": [
    {
     "name": "stdout",
     "output_type": "stream",
     "text": [
      "34\n"
     ]
    }
   ],
   "source": [
    "# another way of initializing a dictionaries is\n",
    "medals = {} # First of all we will initialize it with empty\n",
    "medals['ALan'] = 23\n",
    "medals['Sara'] = 34\n",
    "print(medals['Sara'])"
   ]
  },
  {
   "cell_type": "markdown",
   "id": "dca0aedf-b168-4216-be5d-d57a72439b78",
   "metadata": {},
   "source": [
    "### Dictionaries Method"
   ]
  },
  {
   "cell_type": "code",
   "execution_count": 3,
   "id": "c00b0394-f1ee-44c0-91f9-dd32656ce3e0",
   "metadata": {},
   "outputs": [
    {
     "name": "stdout",
     "output_type": "stream",
     "text": [
      "0\n"
     ]
    }
   ],
   "source": [
    "inventory = {'apples': 430, 'bananas': 312, 'oranges': 525, 'pears': 217}\n",
    "inventory['pears'] = 0 # This way we will update the values\n",
    "print(inventory['pears'])"
   ]
  },
  {
   "cell_type": "code",
   "execution_count": 4,
   "id": "e936ecea-cb7c-44b6-a04a-d314a6f05535",
   "metadata": {},
   "outputs": [
    {
     "name": "stdout",
     "output_type": "stream",
     "text": [
      "4\n",
      "dict_keys(['apples', 'bananas', 'oranges', 'pears'])\n",
      "dict_values([430, 512, 525, 217])\n",
      "dict_items([('apples', 430), ('bananas', 512), ('oranges', 525), ('pears', 217)])\n"
     ]
    }
   ],
   "source": [
    "# We will update the values here but in another way\n",
    "inventory = {'apples': 430, 'bananas': 312, 'oranges': 525, 'pears': 217}\n",
    "inventory['bananas'] = inventory['bananas'] + 200\n",
    "\n",
    "# We can see the No. of Items in the dictionaries by Len function\n",
    "print(len(inventory))\n",
    "\n",
    "# We can see all the keys using Key Fuction\n",
    "print(inventory.keys())\n",
    "print(inventory.values())\n",
    "print(inventory.items())"
   ]
  },
  {
   "cell_type": "code",
   "execution_count": 5,
   "id": "ae6c038d-7d1f-4ab8-b140-22eb0e92fd4c",
   "metadata": {},
   "outputs": [
    {
     "name": "stdout",
     "output_type": "stream",
     "text": [
      "18\n"
     ]
    }
   ],
   "source": [
    "mydict = {\"cat\":12, \"dog\":6, \"elephant\":23}\n",
    "mydict[\"mouse\"] = mydict[\"cat\"] + mydict[\"dog\"]\n",
    "print(mydict[\"mouse\"])"
   ]
  },
  {
   "cell_type": "code",
   "execution_count": 6,
   "id": "e85193aa-a92b-44de-82e4-8d9d36a3abbd",
   "metadata": {},
   "outputs": [
    {
     "name": "stdout",
     "output_type": "stream",
     "text": [
      "Got key apples which maps to value 430\n",
      "Got key bananas which maps to value 312\n",
      "Got key pears which maps to value 217\n",
      "Got key oranges which maps to value 525\n",
      "['apples', 'bananas', 'pears', 'oranges']\n"
     ]
    }
   ],
   "source": [
    "inventory = {'apples': 430, 'bananas': 312, 'pears': 217, 'oranges': 525}\n",
    "\n",
    "for akey in inventory.keys():     # the order in which we get the keys is not defined\n",
    "    print(\"Got key\", akey, \"which maps to value\", inventory[akey])\n",
    "\n",
    "ks = list(inventory.keys())       # Make a list of all of the keys, We can't directly return the list, we need to use list()\n",
    "print(ks)"
   ]
  },
  {
   "cell_type": "code",
   "execution_count": 7,
   "id": "df164894-fdec-41d1-9e26-fbb0caf1212f",
   "metadata": {},
   "outputs": [
    {
     "name": "stdout",
     "output_type": "stream",
     "text": [
      "True\n",
      "False\n"
     ]
    }
   ],
   "source": [
    "# We can also work for Boolean in dictionaries\n",
    "inventory = {'apples': 430, 'bananas': 312, 'oranges': 525, 'pears': 217}\n",
    "print('apples' in inventory)\n",
    "print('cherries' in inventory)"
   ]
  }
 ],
 "metadata": {
  "kernelspec": {
   "display_name": "AIforge",
   "language": "python",
   "name": "aiforge"
  },
  "language_info": {
   "codemirror_mode": {
    "name": "ipython",
    "version": 3
   },
   "file_extension": ".py",
   "mimetype": "text/x-python",
   "name": "python",
   "nbconvert_exporter": "python",
   "pygments_lexer": "ipython3",
   "version": "3.11.4"
  }
 },
 "nbformat": 4,
 "nbformat_minor": 5
}

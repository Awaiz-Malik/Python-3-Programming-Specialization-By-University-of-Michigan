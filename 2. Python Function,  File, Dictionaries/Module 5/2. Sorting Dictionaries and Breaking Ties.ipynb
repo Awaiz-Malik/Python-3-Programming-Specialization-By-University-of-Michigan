{
 "cells": [
  {
   "cell_type": "markdown",
   "id": "491e57e9-954b-4444-a22d-09a04a79c712",
   "metadata": {},
   "source": [
    "### Sorting a Dictionaries"
   ]
  },
  {
   "cell_type": "code",
   "execution_count": 5,
   "id": "31ea769f-215f-4d73-806c-fc622a98e2e7",
   "metadata": {},
   "outputs": [
    {
     "name": "stdout",
     "output_type": "stream",
     "text": [
      "D appears 4 times\n",
      "E appears 2 times\n",
      "B appears 2 times\n",
      "A appears 2 times\n",
      "I appears 2 times\n",
      "F appears 1 times\n",
      "C appears 1 times\n"
     ]
    }
   ],
   "source": [
    "L = ['E', 'F', 'B', 'A', 'D', 'I', 'I', 'C', 'B', 'A', 'D', 'D', 'E', 'D']\n",
    "\n",
    "d = {}\n",
    "for x in L:\n",
    "    if x in d:\n",
    "        d[x] = d[x] + 1\n",
    "    else:\n",
    "        d[x] = 1\n",
    "\n",
    "y = sorted(d.keys(), key=lambda k: d[k], reverse=True)\n",
    "for k in y:\n",
    "    print(\"{} appears {} times\".format(k, d[k]))"
   ]
  },
  {
   "cell_type": "markdown",
   "id": "2e1baef0-c4c6-4743-8c68-777a67ace579",
   "metadata": {},
   "source": [
    "### Sorting Tuple"
   ]
  },
  {
   "cell_type": "code",
   "execution_count": 6,
   "id": "7214ac1f-1f53-4955-ab52-e25a15d0eb0e",
   "metadata": {},
   "outputs": [
    {
     "name": "stdout",
     "output_type": "stream",
     "text": [
      "('A', 2, 4)\n",
      "('A', 3, 2)\n",
      "('B', 3, 1)\n",
      "('C', 1, 2)\n",
      "('C', 1, 4)\n"
     ]
    }
   ],
   "source": [
    "tups = [('A', 3, 2),\n",
    "        ('C', 1, 4),\n",
    "        ('B', 3, 1),\n",
    "        ('A', 2, 4),\n",
    "        ('C', 1, 2)]\n",
    "for tup in sorted(tups):\n",
    "    print(tup)"
   ]
  },
  {
   "cell_type": "markdown",
   "id": "1dd1e78e-7578-42f8-bb8f-2f4ee1c6c497",
   "metadata": {},
   "source": [
    "### Breaking Ties"
   ]
  },
  {
   "cell_type": "code",
   "execution_count": 7,
   "id": "00df9603-a879-4d1b-ac6f-6bc3068442bc",
   "metadata": {},
   "outputs": [
    {
     "name": "stdout",
     "output_type": "stream",
     "text": [
      "kiwi\n",
      "pear\n",
      "apple\n",
      "mango\n",
      "peach\n",
      "papaya\n",
      "blueberry\n"
     ]
    }
   ],
   "source": [
    "fruits = ['peach', 'kiwi', 'apple', 'blueberry', 'papaya', 'mango', 'pear']\n",
    "new_order = sorted(fruits, key=lambda fruit_name: (len(fruit_name), fruit_name))\n",
    "for fruit in new_order:\n",
    "    print(fruit)"
   ]
  },
  {
   "cell_type": "code",
   "execution_count": null,
   "id": "95fdb19a-720b-40eb-8444-1d033618ec68",
   "metadata": {},
   "outputs": [],
   "source": []
  }
 ],
 "metadata": {
  "kernelspec": {
   "display_name": "AIforge",
   "language": "python",
   "name": "aiforge"
  },
  "language_info": {
   "codemirror_mode": {
    "name": "ipython",
    "version": 3
   },
   "file_extension": ".py",
   "mimetype": "text/x-python",
   "name": "python",
   "nbconvert_exporter": "python",
   "pygments_lexer": "ipython3",
   "version": "3.11.4"
  }
 },
 "nbformat": 4,
 "nbformat_minor": 5
}

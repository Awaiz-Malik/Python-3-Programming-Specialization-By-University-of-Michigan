{
 "cells": [
  {
   "cell_type": "markdown",
   "id": "9e80dec9-6697-4a1f-8bb8-406c0547be92",
   "metadata": {},
   "source": [
    "### Sort()"
   ]
  },
  {
   "cell_type": "code",
   "execution_count": 1,
   "id": "1143106a-8e27-4184-890a-e40c7a55cb45",
   "metadata": {},
   "outputs": [
    {
     "name": "stdout",
     "output_type": "stream",
     "text": [
      "[-2, 1, 3, 4, 7]\n",
      "['Apple', 'Blueberry', 'Cherry']\n"
     ]
    }
   ],
   "source": [
    "L1 = [1, 7, 4, -2, 3]\n",
    "L2 = [\"Cherry\", \"Apple\", \"Blueberry\"]\n",
    "\n",
    "L1.sort()\n",
    "print(L1)\n",
    "L2.sort() # Here string list will be sorted like A, B, C and then soo on\n",
    "print(L2)"
   ]
  },
  {
   "cell_type": "markdown",
   "id": "da047daf-6699-45c6-b59d-050af6d31bed",
   "metadata": {},
   "source": [
    "### Sorted()"
   ]
  },
  {
   "cell_type": "code",
   "execution_count": 2,
   "id": "aad769b2-85d1-41ee-b5bc-97d387bd25c1",
   "metadata": {},
   "outputs": [
    {
     "name": "stdout",
     "output_type": "stream",
     "text": [
      "['Apple', 'Blueberry', 'Cherry']\n",
      "['Apple', 'Blueberry', 'Cherry']\n",
      "['Cherry', 'Apple', 'Blueberry']\n",
      "----\n",
      "['Apple', 'Blueberry', 'Cherry']\n",
      "None\n"
     ]
    }
   ],
   "source": [
    "L2 = [\"Cherry\", \"Apple\", \"Blueberry\"]\n",
    "\n",
    "L3 = sorted(L2) # This sorted() requires an argument and return an value as well\n",
    "print(L3)\n",
    "print(sorted(L2))\n",
    "print(L2) # unchanged\n",
    "\n",
    "print(\"----\")\n",
    "\n",
    "L2.sort()\n",
    "print(L2)\n",
    "print(L2.sort())  #return value is None"
   ]
  },
  {
   "cell_type": "markdown",
   "id": "657e1749-5855-4fdd-9007-f4532b2df45c",
   "metadata": {},
   "source": [
    "### Optional Reverse Parameter"
   ]
  },
  {
   "cell_type": "code",
   "execution_count": 3,
   "id": "59e0b638-002c-45a5-a85a-0da4b6c9e273",
   "metadata": {},
   "outputs": [
    {
     "name": "stdout",
     "output_type": "stream",
     "text": [
      "['Cherry', 'Blueberry', 'Apple']\n"
     ]
    }
   ],
   "source": [
    "L2 = [\"Cherry\", \"Apple\", \"Blueberry\"]\n",
    "print(sorted(L2, reverse=True))"
   ]
  },
  {
   "cell_type": "markdown",
   "id": "5268e38f-67a9-48f5-bc03-ee8162658695",
   "metadata": {},
   "source": [
    "### Optional Key Parameter"
   ]
  },
  {
   "cell_type": "code",
   "execution_count": 4,
   "id": "e65d52ab-ea1a-4808-988b-5f8193fd4065",
   "metadata": {},
   "outputs": [
    {
     "name": "stdout",
     "output_type": "stream",
     "text": [
      "[1, -2, 3, 4, 7]\n",
      "[7, 4, 3, -2, 1]\n"
     ]
    }
   ],
   "source": [
    "L1 = [1, 7, 4, -2, 3]\n",
    "\n",
    "def absolute(x):\n",
    "    if x >= 0:\n",
    "        return x\n",
    "    else:\n",
    "        return -x\n",
    "\n",
    "L2 = sorted(L1, key=absolute)\n",
    "print(L2)\n",
    "\n",
    "#or in reverse order\n",
    "print(sorted(L1, reverse=True, key=absolute))\n"
   ]
  }
 ],
 "metadata": {
  "kernelspec": {
   "display_name": "AIforge",
   "language": "python",
   "name": "aiforge"
  },
  "language_info": {
   "codemirror_mode": {
    "name": "ipython",
    "version": 3
   },
   "file_extension": ".py",
   "mimetype": "text/x-python",
   "name": "python",
   "nbconvert_exporter": "python",
   "pygments_lexer": "ipython3",
   "version": "3.11.4"
  }
 },
 "nbformat": 4,
 "nbformat_minor": 5
}

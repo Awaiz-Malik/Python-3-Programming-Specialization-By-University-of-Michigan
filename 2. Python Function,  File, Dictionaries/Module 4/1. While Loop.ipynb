{
 "cells": [
  {
   "cell_type": "code",
   "execution_count": 1,
   "id": "a2c0b674-d2ad-4797-a043-fa8b1b686ee0",
   "metadata": {},
   "outputs": [
    {
     "name": "stdout",
     "output_type": "stream",
     "text": [
      "56\n"
     ]
    }
   ],
   "source": [
    "n = 0\n",
    "answer = 1\n",
    "while ( n <= 10 ):\n",
    "  answer = answer + n\n",
    "  n = n + 1\n",
    "print(answer)"
   ]
  },
  {
   "cell_type": "markdown",
   "id": "af7c4843-ccc5-4f3c-8d76-0e56523f19d7",
   "metadata": {},
   "source": [
    "### Break and Continue Statement"
   ]
  },
  {
   "cell_type": "code",
   "execution_count": 2,
   "id": "2c337f48-adbc-4f4f-84d5-bdeb08538d0d",
   "metadata": {},
   "outputs": [
    {
     "name": "stdout",
     "output_type": "stream",
     "text": [
      "this phrase will always print\n",
      "We are done with the while loop.\n"
     ]
    }
   ],
   "source": [
    "while True:\n",
    "    print(\"this phrase will always print\")\n",
    "    break   # Here break will exit the while loop \n",
    "    print(\"Does this phrase print?\")\n",
    "\n",
    "print(\"We are done with the while loop.\")"
   ]
  },
  {
   "cell_type": "code",
   "execution_count": 3,
   "id": "ca71bcb4-1991-4a79-b70c-d37575a82456",
   "metadata": {},
   "outputs": [
    {
     "name": "stdout",
     "output_type": "stream",
     "text": [
      "we are incrementing x\n",
      "we are incrementing x\n",
      "we are incrementing x\n",
      "Done with our loop! X has the value: 15\n"
     ]
    }
   ],
   "source": [
    "x = 0\n",
    "while x < 10:\n",
    "    print(\"we are incrementing x\")\n",
    "    if x % 2 == 0:\n",
    "        x += 3\n",
    "        continue # From here onwards statements will be skipped but control will be shift back to while condition\n",
    "    if x % 3 == 0:\n",
    "        x += 5\n",
    "    x += 1\n",
    "print(\"Done with our loop! X has the value: \" + str(x))\n"
   ]
  }
 ],
 "metadata": {
  "kernelspec": {
   "display_name": "AIforge",
   "language": "python",
   "name": "aiforge"
  },
  "language_info": {
   "codemirror_mode": {
    "name": "ipython",
    "version": 3
   },
   "file_extension": ".py",
   "mimetype": "text/x-python",
   "name": "python",
   "nbconvert_exporter": "python",
   "pygments_lexer": "ipython3",
   "version": "3.11.4"
  }
 },
 "nbformat": 4,
 "nbformat_minor": 5
}

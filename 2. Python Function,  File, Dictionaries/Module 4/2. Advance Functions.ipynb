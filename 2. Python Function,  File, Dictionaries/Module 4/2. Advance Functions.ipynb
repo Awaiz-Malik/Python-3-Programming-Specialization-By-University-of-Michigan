{
 "cells": [
  {
   "cell_type": "code",
   "execution_count": 1,
   "id": "187cb441-d881-491b-99e9-859f395d81ee",
   "metadata": {},
   "outputs": [
    {
     "name": "stdout",
     "output_type": "stream",
     "text": [
      "[1]\n",
      "[1, 2]\n",
      "[1, 2, 3]\n",
      "['Hello', 4]\n",
      "['Hello', 5]\n"
     ]
    }
   ],
   "source": [
    "# This is the concept of optional parameter\n",
    "def f(a, L=[]):\n",
    "    L.append(a)\n",
    "    return L\n",
    "\n",
    "print(f(1))\n",
    "print(f(2))\n",
    "print(f(3))\n",
    "print(f(4, [\"Hello\"]))\n",
    "print(f(5, [\"Hello\"]))"
   ]
  },
  {
   "cell_type": "code",
   "execution_count": 3,
   "id": "17301527-5317-43e6-bdee-e332a1070eda",
   "metadata": {},
   "outputs": [
    {
     "name": "stdout",
     "output_type": "stream",
     "text": [
      "x, y, z are: 2 5 7\n",
      "x, y, z are: 10 3 9\n"
     ]
    }
   ],
   "source": [
    "initial = 7\n",
    "def f(x, y = 3, z = initial):\n",
    "    print(\"x, y, z are:\", x, y, z)\n",
    "\n",
    "f(2, 5)\n",
    "f(10, z = 9)"
   ]
  },
  {
   "cell_type": "markdown",
   "id": "4ab33a43-b7ef-4d48-944a-4ef580087608",
   "metadata": {},
   "source": [
    "### Lambda Expression"
   ]
  },
  {
   "cell_type": "code",
   "execution_count": 4,
   "id": "9413a3ad-ff38-47ae-806f-1aedd4611deb",
   "metadata": {},
   "outputs": [
    {
     "name": "stdout",
     "output_type": "stream",
     "text": [
      "<function f at 0x0000020F0D9BCA40>\n",
      "<class 'function'>\n",
      "2\n"
     ]
    }
   ],
   "source": [
    "# As we see this is how our normal function works\n",
    "def f(x):\n",
    "    return x - 1\n",
    "\n",
    "print(f)\n",
    "print(type(f))\n",
    "print(f(3))"
   ]
  },
  {
   "cell_type": "code",
   "execution_count": 8,
   "id": "7e729fa4-0f0b-476a-bf9c-9b20276bc0b6",
   "metadata": {},
   "outputs": [
    {
     "name": "stdout",
     "output_type": "stream",
     "text": [
      "<function <lambda> at 0x0000020F0D9BC220>\n",
      "<class 'function'>\n",
      "2\n"
     ]
    }
   ],
   "source": [
    "# Now lets rewrite the above function using lambda expression\n",
    "lf = lambda x: x-1   # We dont't write return statement this way\n",
    "print(lambda x: x-2)\n",
    "print(type(lambda x: x-2))\n",
    "print(lf(3))"
   ]
  },
  {
   "cell_type": "code",
   "execution_count": null,
   "id": "0b2faeec-b1bd-43ab-9eb5-c11617a831f1",
   "metadata": {},
   "outputs": [],
   "source": []
  }
 ],
 "metadata": {
  "kernelspec": {
   "display_name": "AIforge",
   "language": "python",
   "name": "aiforge"
  },
  "language_info": {
   "codemirror_mode": {
    "name": "ipython",
    "version": 3
   },
   "file_extension": ".py",
   "mimetype": "text/x-python",
   "name": "python",
   "nbconvert_exporter": "python",
   "pygments_lexer": "ipython3",
   "version": "3.11.4"
  }
 },
 "nbformat": 4,
 "nbformat_minor": 5
}

{
 "cells": [
  {
   "cell_type": "markdown",
   "id": "12a2dccc-ed07-4efd-b919-ee62a7c21a9d",
   "metadata": {},
   "source": [
    "### Reading Text File"
   ]
  },
  {
   "cell_type": "code",
   "execution_count": 1,
   "id": "596419b8-10e8-414b-85bd-53f75f334eb2",
   "metadata": {},
   "outputs": [
    {
     "name": "stdout",
     "output_type": "stream",
     "text": [
      "Name,Sex,Age,Team,Event,Medal\n",
      "A Dijiang,M,24,China,Basketball,NA\n",
      "A Lamusi,M,23,China,Judo,NA\n",
      "Gunnar \n"
     ]
    }
   ],
   "source": [
    "fileref = open('Text_Read_File.txt','r')  # Here fileref is an instance and 'Text_File.txt' is file location;\n",
    "                                          # While 'r' tells the open() that file is about to be read.\n",
    "content = fileref.read()                  # This will read all the content in the file\n",
    "print(content[:100])\n",
    "fileref.close()"
   ]
  },
  {
   "cell_type": "code",
   "execution_count": 2,
   "id": "3de3a5d0-9737-48dd-a921-b9f5b8555250",
   "metadata": {},
   "outputs": [
    {
     "name": "stdout",
     "output_type": "stream",
     "text": [
      "['Name,Sex,Age,Team,Event,Medal\\n', 'A Dijiang,M,24,China,Basketball,NA\\n', 'A Lamusi,M,23,China,Judo,NA\\n', 'Gunnar Nielsen Aaby,M,24,Denmark,Football,NA\\n']\n"
     ]
    }
   ],
   "source": [
    "# Now instead of reading all the content at once we can read by lines\n",
    "file = open('Text_Read_File.txt','r')\n",
    "lines = file.readlines()\n",
    "print(lines[:4])\n",
    "file.close()"
   ]
  },
  {
   "cell_type": "markdown",
   "id": "6e3fed4f-f767-4780-9fee-84476417cd21",
   "metadata": {},
   "source": [
    "### Writing Text_File"
   ]
  },
  {
   "cell_type": "code",
   "execution_count": 3,
   "id": "3998fd5d-093e-449d-940e-ed00de3d65c0",
   "metadata": {},
   "outputs": [],
   "source": [
    "file_obj = open('Text_Write_File.txt','w')    # Here 'w' tells the open() that file is about to be written.\n",
    "for x in range(0,10):\n",
    "    file_obj.write(str(x))               # We will convert the data into string before writing in text file\n",
    "    file_obj.write('\\n')\n",
    "file_obj.close()"
   ]
  },
  {
   "cell_type": "code",
   "execution_count": 4,
   "id": "7c0b2b94-1b86-4530-ab37-b5df8c61b037",
   "metadata": {},
   "outputs": [
    {
     "name": "stdout",
     "output_type": "stream",
     "text": [
      "['0\\n', '1\\n', '2\\n', '3\\n', '4\\n', '5\\n', '6\\n', '7\\n', '8\\n', '9\\n']\n"
     ]
    }
   ],
   "source": [
    "# We can also see the content written in the file just to verify\n",
    "file_view = open('Text_Write_File.txt', 'r')\n",
    "lines = file_view.readlines()\n",
    "print(lines)\n",
    "file_view.close()"
   ]
  },
  {
   "cell_type": "markdown",
   "id": "f3e23875-f963-4f59-a129-1f4dc822388f",
   "metadata": {},
   "source": [
    "### `with` for Reading and Writing"
   ]
  },
  {
   "cell_type": "code",
   "execution_count": 5,
   "id": "b88c4a37-2315-4226-83f1-bc1c1fc6abb5",
   "metadata": {},
   "outputs": [
    {
     "name": "stdout",
     "output_type": "stream",
     "text": [
      "0\n",
      "\n",
      "1\n",
      "\n",
      "2\n",
      "\n",
      "3\n",
      "\n",
      "4\n",
      "\n",
      "5\n",
      "\n",
      "6\n",
      "\n",
      "7\n",
      "\n",
      "8\n",
      "\n",
      "9\n",
      "\n"
     ]
    }
   ],
   "source": [
    "with open('Text_Write_File.txt','r') as md:\n",
    "    for x in md:\n",
    "        print(x)"
   ]
  },
  {
   "cell_type": "code",
   "execution_count": 6,
   "id": "30912e2e-b7bf-4016-80a6-100436e2e311",
   "metadata": {},
   "outputs": [],
   "source": [
    "with open('File.txt','w') as md:\n",
    "    for x in range(1,10):\n",
    "        x = x**2\n",
    "        md.write(str(x))\n",
    "        md.write('\\n')"
   ]
  },
  {
   "cell_type": "markdown",
   "id": "53b7ac2c-6087-45d5-8d42-26b33bb63c2f",
   "metadata": {},
   "source": [
    "### Reading and Writing from CSV file"
   ]
  },
  {
   "cell_type": "code",
   "execution_count": 7,
   "id": "ea6188f5-a664-4741-8ba2-800e0441a4f7",
   "metadata": {},
   "outputs": [],
   "source": [
    "data = [ 'Name,Sex,Age,Team,Event,Medal',\n",
    "         'A Dijiang,M,24,China,Basketball,NA', \n",
    "         'A Lamusi,M,23,China,Judo,NA', \n",
    "         'Gunnar Nielsen Aaby,M,24,Denmark,Football,NA']\n",
    "outfile = open('CSV_File.csv','w')\n",
    "for x in data:\n",
    "    outfile.write(x)\n",
    "    outfile.write('\\n')"
   ]
  },
  {
   "cell_type": "code",
   "execution_count": 8,
   "id": "e4e92830-a976-4f7e-8cec-2f222f99f441",
   "metadata": {},
   "outputs": [
    {
     "name": "stdout",
     "output_type": "stream",
     "text": [
      "\n"
     ]
    }
   ],
   "source": [
    "reference = open('CSV_File.csv','r')  \n",
    "data = reference.read()\n",
    "print(data)\n",
    "fileref.close()"
   ]
  }
 ],
 "metadata": {
  "kernelspec": {
   "display_name": "AIforge",
   "language": "python",
   "name": "aiforge"
  },
  "language_info": {
   "codemirror_mode": {
    "name": "ipython",
    "version": 3
   },
   "file_extension": ".py",
   "mimetype": "text/x-python",
   "name": "python",
   "nbconvert_exporter": "python",
   "pygments_lexer": "ipython3",
   "version": "3.11.4"
  }
 },
 "nbformat": 4,
 "nbformat_minor": 5
}
